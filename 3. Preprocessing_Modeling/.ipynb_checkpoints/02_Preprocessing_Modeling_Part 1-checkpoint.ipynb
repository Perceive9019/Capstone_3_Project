{
 "cells": [
  {
   "cell_type": "markdown",
   "id": "31a7b84f",
   "metadata": {},
   "source": [
    "# UK Electricity Consumption Forecast - Time Series Analysis"
   ]
  },
  {
   "cell_type": "markdown",
   "id": "ac9a0001",
   "metadata": {},
   "source": [
    "The general framework we will use to carryout the time series forecasting analysis is as follows:\n",
    "\n",
    "### 1. **Data Wrangling: Understanding the Dataset**\n",
    "- Load our dataset into a dataset.\n",
    "- Visualize the data to understand its pattern (e.g., using Matplotlib or Seaborn in Python). - Look for seasonality, trends, and potential outliers.\n",
    "- Check for missing data and decide how we want to handle them (e.g., interpolation, forward-fill, or dropping).\n",
    "\n",
    "\n",
    "### 2. **EDA: Decomposition of the Series**\n",
    "Using the package `statsmodels.tsa.seasonal` in Python, we will decompose our time series into:\n",
    "- Trend component\n",
    "- Seasonal component\n",
    "- Residual component\n",
    "\n",
    "This gives us insights into the nature of the patterns in our data.\n",
    "\n",
    "### 3. **Stationarity**\n",
    "Most time series forecasting methods assume that the underlying time series is stationary, which means statistical properties like mean, variance, etc., are constant over time.\n",
    "\n",
    "- Test for stationarity using the Dickey-Fuller test (`adfuller` function from `statsmodels.tsa.stattools`) and Kwiatkowski-Phillips-Schmidt-Shin test (`KPSS`function from `statsmodels.tsa.stattools`).\n",
    "- If the series is non-stationary, we can make it stationary by differencing or taking the log, etc.\n",
    "\n",
    "### 4. **Selecting a Model**\n",
    "Below are the models we will use to forecast electricity demand in the UK:\n",
    "\n",
    "- **ARIMA** (AutoRegressive Integrated Moving Average): A popular model for time series forecasting. We'll need to find optimal parameters (p,d,q) for the model. We can use tools like `auto_arima` in the `pmdarima` library to find the best parameters.\n",
    "\n",
    "- **SARIMA** (Seasonal Autoregressive Integrated Moving Average). It's a statistical model used for forecasting time series data that exhibit seasonality.\n",
    "\n",
    "- **Prophet**: Developed by Facebook, it's useful for datasets with strong seasonal patterns and multiple seasonality.\n",
    "\n",
    "### 5. **Training and Validation**\n",
    "- Split the dataset into a training set and a validation (or test) set. The training set will be used to train the model, while the validation set will be used to test its performance.\n",
    "- Fit the selected model to the training data.\n",
    "- Forecast for the validation period and compare the forecasted values with the actual values.\n",
    "\n",
    "### 6. **Model Evaluation**\n",
    "Use metrics like Mean Absolute Percentage Error (MAPE), Root Mean Squared Error (RMSE), or Mean Absolute Error (MAE) to measure the accuracy of our forecasts.\n",
    "\n",
    "### 7. **Forecasting**\n",
    "Once satisfied with the model's performance on the validation set, we can use the entire dataset to train the model and then forecast future consumption or demand.\n",
    "\n",
    "### 8. **Post-processing**\n",
    "Some models might give forecasts that need post-processing. For example, if we log-transformed our data, we'll need to reverse the transformation on our forecasts."
   ]
  },
  {
   "cell_type": "markdown",
   "id": "24579c92",
   "metadata": {},
   "source": [
    "### Load relevant libraries"
   ]
  },
  {
   "cell_type": "code",
   "execution_count": 1,
   "id": "54f41d05",
   "metadata": {},
   "outputs": [],
   "source": [
    "import os\n",
    "import pandas as pd\n",
    "import numpy as np\n",
    "import seaborn as sns\n",
    "import matplotlib.pyplot as plt\n",
    "%matplotlib inline\n",
    "from statsmodels.tsa.seasonal import seasonal_decompose  # Decomposition\n",
    "from statsmodels.tsa.stattools import adfuller\n",
    "from statsmodels.tsa.stattools import kpss\n",
    "from pmdarima import auto_arima\n",
    "from statsmodels.tsa.statespace.sarimax import SARIMAX\n",
    "import warnings\n",
    "warnings.filterwarnings(\"ignore\")"
   ]
  },
  {
   "cell_type": "markdown",
   "id": "16db8298",
   "metadata": {},
   "source": [
    "### Load Data Wranging & EDA Data"
   ]
  },
  {
   "cell_type": "code",
   "execution_count": 2,
   "id": "cb3b5d41",
   "metadata": {},
   "outputs": [
    {
     "data": {
      "text/html": [
       "<div>\n",
       "<style scoped>\n",
       "    .dataframe tbody tr th:only-of-type {\n",
       "        vertical-align: middle;\n",
       "    }\n",
       "\n",
       "    .dataframe tbody tr th {\n",
       "        vertical-align: top;\n",
       "    }\n",
       "\n",
       "    .dataframe thead th {\n",
       "        text-align: right;\n",
       "    }\n",
       "</style>\n",
       "<table border=\"1\" class=\"dataframe\">\n",
       "  <thead>\n",
       "    <tr style=\"text-align: right;\">\n",
       "      <th></th>\n",
       "      <th>settlement_date</th>\n",
       "      <th>settlement_period</th>\n",
       "      <th>period_hour</th>\n",
       "      <th>nd</th>\n",
       "      <th>tsd</th>\n",
       "      <th>england_wales_demand</th>\n",
       "      <th>embedded_wind_generation</th>\n",
       "      <th>embedded_wind_capacity</th>\n",
       "      <th>embedded_solar_generation</th>\n",
       "      <th>embedded_solar_capacity</th>\n",
       "      <th>non_bm_stor</th>\n",
       "      <th>pump_storage_pumping</th>\n",
       "      <th>ifa_flow</th>\n",
       "      <th>ifa2_flow</th>\n",
       "      <th>britned_flow</th>\n",
       "      <th>moyle_flow</th>\n",
       "      <th>east_west_flow</th>\n",
       "      <th>nemo_flow</th>\n",
       "      <th>is_holiday</th>\n",
       "    </tr>\n",
       "  </thead>\n",
       "  <tbody>\n",
       "    <tr>\n",
       "      <th>0</th>\n",
       "      <td>2009-01-01 00:00:00</td>\n",
       "      <td>1</td>\n",
       "      <td>0:00:00</td>\n",
       "      <td>37910</td>\n",
       "      <td>38704</td>\n",
       "      <td>33939</td>\n",
       "      <td>54</td>\n",
       "      <td>1403</td>\n",
       "      <td>0</td>\n",
       "      <td>0</td>\n",
       "      <td>0</td>\n",
       "      <td>33</td>\n",
       "      <td>2002</td>\n",
       "      <td>0</td>\n",
       "      <td>0</td>\n",
       "      <td>-161</td>\n",
       "      <td>0</td>\n",
       "      <td>0</td>\n",
       "      <td>1</td>\n",
       "    </tr>\n",
       "    <tr>\n",
       "      <th>1</th>\n",
       "      <td>2009-01-01 00:30:00</td>\n",
       "      <td>2</td>\n",
       "      <td>0:30:00</td>\n",
       "      <td>38047</td>\n",
       "      <td>38964</td>\n",
       "      <td>34072</td>\n",
       "      <td>53</td>\n",
       "      <td>1403</td>\n",
       "      <td>0</td>\n",
       "      <td>0</td>\n",
       "      <td>0</td>\n",
       "      <td>157</td>\n",
       "      <td>2002</td>\n",
       "      <td>0</td>\n",
       "      <td>0</td>\n",
       "      <td>-160</td>\n",
       "      <td>0</td>\n",
       "      <td>0</td>\n",
       "      <td>1</td>\n",
       "    </tr>\n",
       "    <tr>\n",
       "      <th>2</th>\n",
       "      <td>2009-01-01 01:00:00</td>\n",
       "      <td>3</td>\n",
       "      <td>1:00:00</td>\n",
       "      <td>37380</td>\n",
       "      <td>38651</td>\n",
       "      <td>33615</td>\n",
       "      <td>53</td>\n",
       "      <td>1403</td>\n",
       "      <td>0</td>\n",
       "      <td>0</td>\n",
       "      <td>0</td>\n",
       "      <td>511</td>\n",
       "      <td>2002</td>\n",
       "      <td>0</td>\n",
       "      <td>0</td>\n",
       "      <td>-160</td>\n",
       "      <td>0</td>\n",
       "      <td>0</td>\n",
       "      <td>1</td>\n",
       "    </tr>\n",
       "    <tr>\n",
       "      <th>3</th>\n",
       "      <td>2009-01-01 01:30:00</td>\n",
       "      <td>4</td>\n",
       "      <td>1:30:00</td>\n",
       "      <td>36426</td>\n",
       "      <td>37775</td>\n",
       "      <td>32526</td>\n",
       "      <td>50</td>\n",
       "      <td>1403</td>\n",
       "      <td>0</td>\n",
       "      <td>0</td>\n",
       "      <td>0</td>\n",
       "      <td>589</td>\n",
       "      <td>1772</td>\n",
       "      <td>0</td>\n",
       "      <td>0</td>\n",
       "      <td>-160</td>\n",
       "      <td>0</td>\n",
       "      <td>0</td>\n",
       "      <td>1</td>\n",
       "    </tr>\n",
       "    <tr>\n",
       "      <th>4</th>\n",
       "      <td>2009-01-01 02:00:00</td>\n",
       "      <td>5</td>\n",
       "      <td>2:00:00</td>\n",
       "      <td>35687</td>\n",
       "      <td>37298</td>\n",
       "      <td>31877</td>\n",
       "      <td>50</td>\n",
       "      <td>1403</td>\n",
       "      <td>0</td>\n",
       "      <td>0</td>\n",
       "      <td>0</td>\n",
       "      <td>851</td>\n",
       "      <td>1753</td>\n",
       "      <td>0</td>\n",
       "      <td>0</td>\n",
       "      <td>-160</td>\n",
       "      <td>0</td>\n",
       "      <td>0</td>\n",
       "      <td>1</td>\n",
       "    </tr>\n",
       "  </tbody>\n",
       "</table>\n",
       "</div>"
      ],
      "text/plain": [
       "      settlement_date  settlement_period period_hour     nd    tsd  \\\n",
       "0 2009-01-01 00:00:00                  1     0:00:00  37910  38704   \n",
       "1 2009-01-01 00:30:00                  2     0:30:00  38047  38964   \n",
       "2 2009-01-01 01:00:00                  3     1:00:00  37380  38651   \n",
       "3 2009-01-01 01:30:00                  4     1:30:00  36426  37775   \n",
       "4 2009-01-01 02:00:00                  5     2:00:00  35687  37298   \n",
       "\n",
       "   england_wales_demand  embedded_wind_generation  embedded_wind_capacity  \\\n",
       "0                 33939                        54                    1403   \n",
       "1                 34072                        53                    1403   \n",
       "2                 33615                        53                    1403   \n",
       "3                 32526                        50                    1403   \n",
       "4                 31877                        50                    1403   \n",
       "\n",
       "   embedded_solar_generation  embedded_solar_capacity  non_bm_stor  \\\n",
       "0                          0                        0            0   \n",
       "1                          0                        0            0   \n",
       "2                          0                        0            0   \n",
       "3                          0                        0            0   \n",
       "4                          0                        0            0   \n",
       "\n",
       "   pump_storage_pumping  ifa_flow  ifa2_flow  britned_flow  moyle_flow  \\\n",
       "0                    33      2002          0             0        -161   \n",
       "1                   157      2002          0             0        -160   \n",
       "2                   511      2002          0             0        -160   \n",
       "3                   589      1772          0             0        -160   \n",
       "4                   851      1753          0             0        -160   \n",
       "\n",
       "   east_west_flow  nemo_flow  is_holiday  \n",
       "0               0          0           1  \n",
       "1               0          0           1  \n",
       "2               0          0           1  \n",
       "3               0          0           1  \n",
       "4               0          0           1  "
      ]
     },
     "execution_count": 2,
     "metadata": {},
     "output_type": "execute_result"
    }
   ],
   "source": [
    "# Load data from Parquet\n",
    "folder_path = '/Users/elevate/Documents/Springboard Data Science/GitHub Repos/Capstone_3_Project/2. Data_Wrangling_EDA'\n",
    "\n",
    "data_loaded = pd.read_parquet(f'{folder_path}/eda_output.parquet')\n",
    "\n",
    "# Check first few rows to ensure data loaded correctly\n",
    "data_loaded.head()"
   ]
  },
  {
   "cell_type": "markdown",
   "id": "a086d5ca",
   "metadata": {},
   "source": [
    "## 3. Testing for Stationarity\n",
    "Before applying most time series forecasting methods, we need to ensure that our time series data is stationary. Stationarity means that the statistical properties of the series, like mean, variance, and autocorrelation, are constant over time."
   ]
  },
  {
   "cell_type": "markdown",
   "id": "9ff77a13",
   "metadata": {},
   "source": [
    "### 3.1 ADF Test: \n",
    "The Augmented Dickey-Fuller test is a formal statistical test for stationarity. \n",
    "\n",
    "- H0: The null hypothesis of the test is that the time series can be represented by a unit root, which is not stationary (has some time-dependent structure). \n",
    "- H1: The alternative hypothesis is that the time series is stationary (does not have a unit root)."
   ]
  },
  {
   "cell_type": "code",
   "execution_count": 3,
   "id": "a254a2a0",
   "metadata": {},
   "outputs": [
    {
     "name": "stdout",
     "output_type": "stream",
     "text": [
      "ADF Statistic: -16.920976\n",
      "p-value: 0.000000\n"
     ]
    }
   ],
   "source": [
    "from statsmodels.tsa.stattools import adfuller\n",
    "result = adfuller(data_loaded['tsd'])\n",
    "\n",
    "# Pring test-statistic\n",
    "print('ADF Statistic: %f' % result[0])\n",
    "\n",
    "#Print p-value\n",
    "print('p-value: %f' % result[1])"
   ]
  },
  {
   "cell_type": "markdown",
   "id": "d69687c4",
   "metadata": {},
   "source": [
    "The Augmented Dickey-Fuller **(ADF)** test results indicate the following:\n",
    "\n",
    " - **ADF Statistic**: A value of -16.920976 is highly negative.\n",
    " - **p-value**: A value of 0.000000 (essentially 0) is far below the common significance level ( 0.05).\n",
    " \n",
    "**Interpretation**:\n",
    "\n",
    "Given these results, we reject the null hypothesis of the ADF test, suggesting that the time series does not have a unit root and is stationary.\n",
    "\n",
    "This is a good indication we're looking to model our time series with methods like ARIMA or SARIMA. A stationary series often leads to better model performance because the statistical properties (mean, variance, autocorrelation) of the series remain constant over time, which is an assumption in many time series forecasting methods."
   ]
  },
  {
   "cell_type": "markdown",
   "id": "977c3d1e",
   "metadata": {},
   "source": [
    "### 3.2 Testing for stationarity with KPSS\n",
    "Checking for stationarity using both the ADF and KPSS tests provides a more comprehensive view of the data's stationarity."
   ]
  },
  {
   "cell_type": "markdown",
   "id": "cd4c14ce",
   "metadata": {},
   "source": [
    "**KPSS Test** :\n",
    "- Null Hypothesis (H0): The time series is stationary around a deterministic trend.\n",
    "- Alternative Hypothesis (H1): The time series is not stationary (has a unit root).\n",
    "\n",
    "     - If the p-value is less than a threshold (e.g., 0.05 or 0.01), then you reject the null hypothesis, suggesting the time series is non-stationary.\n",
    "    - If the p-value is greater than the threshold, you fail to reject the null hypothesis and infer that the time series is stationary.\n"
   ]
  },
  {
   "cell_type": "code",
   "execution_count": 4,
   "id": "a5e81a88",
   "metadata": {},
   "outputs": [
    {
     "name": "stdout",
     "output_type": "stream",
     "text": [
      "KPSS Statistic: 41.546408\n",
      "p-value: 0.010000\n",
      "Critical Values: {'10%': 0.347, '5%': 0.463, '2.5%': 0.574, '1%': 0.739}\n"
     ]
    }
   ],
   "source": [
    "from statsmodels.tsa.stattools import kpss\n",
    "\n",
    "# Perform the KPSS test\n",
    "kpss_result = kpss(data_loaded['tsd'])\n",
    "\n",
    "# Print the test-statistic\n",
    "print('KPSS Statistic: %f' % kpss_result[0])\n",
    "\n",
    "# Print the p-value\n",
    "print('p-value: %f' % kpss_result[1])\n",
    "\n",
    "# Print Critical Values\n",
    "print('Critical Values:', kpss_result[3])"
   ]
  },
  {
   "cell_type": "markdown",
   "id": "03f0fd85",
   "metadata": {},
   "source": [
    "**Note**:\n",
    "For the KPSS test, the critical values determine the thresholds at which we can reject the null hypothesis. The KPSS test generally provides critical values for various significance levels (e.g., 1%, 5%, 10%).\n",
    "\n",
    "If the KPSS statistic is greater than the critical value at a certain significance level, then you can reject the null hypothesis at that significance level."
   ]
  },
  {
   "cell_type": "markdown",
   "id": "75ccb619",
   "metadata": {},
   "source": [
    "The KPSS test results indicate the following:\n",
    "\n",
    "- **KPSS Statistic**: A value of 41.546408 is significantly larger than any of the provided critical values.\n",
    "- **p-value**: A value of 0.010000 (or 1%) is below the common significance levels (like 0.05).\n",
    "\n",
    "**Interpretation**:\n",
    "\n",
    "Given these results:\n",
    "\n",
    "1. The KPSS statistic of 41.546408 is well above all the critical values, including the 1% level.\n",
    "2. The p-value of 0.010000 suggests that you reject the null hypothesis at a 1% significance level.\n",
    "\n",
    "This means that according to the KPSS test, we would reject the null hypothesis, suggesting that the time series **is not stationary around a deterministic trend**.\n",
    "\n",
    "However, remember that the ADF test indicated that the series was stationary. This discrepancy between the ADF and KPSS tests suggests that the series might be **difference-stationary**. In other words, differencing the series once might make it stationary.\n",
    "\n",
    "In practice, when we get conflicting results from ADF and KPSS:\n",
    "\n",
    "- ADF indicates stationary, and KPSS indicates non-stationary: The series might be difference-stationary. Differencing can make the series stationary, and we might consider using techniques like ARIMA that involve integrated (I) components.\n",
    "\n",
    "Given the results, the next logical step could be to difference the series once and then re-run both the ADF and KPSS tests on the differenced data to see if it becomes stationary.\n",
    "\n",
    "Alternatively, we could proceed with models that can handle and account for non-stationarity, like SARIMA or Prophet."
   ]
  },
  {
   "cell_type": "markdown",
   "id": "5e73d8d1",
   "metadata": {},
   "source": [
    "**Note**:\n",
    "Difference-stationary means that the 'tsd' series becomes stationary after differencing it a certain number of times. The most common approach is to take the first difference, but sometimes a second or even third difference might be necessary."
   ]
  },
  {
   "cell_type": "markdown",
   "id": "5fd19f2e",
   "metadata": {},
   "source": [
    "### 3.3 Compute Difference-Stationary"
   ]
  },
  {
   "cell_type": "code",
   "execution_count": 5,
   "id": "07738f33",
   "metadata": {},
   "outputs": [],
   "source": [
    "# Create a new column called tsd_diff\n",
    "# Use the diff() for differencing\n",
    "data_loaded['tsd_diff'] = data_loaded['tsd'].diff().dropna() # drop missing values"
   ]
  },
  {
   "cell_type": "markdown",
   "id": "e198923c",
   "metadata": {},
   "source": [
    "### 3.4 Visualize the difference data"
   ]
  },
  {
   "cell_type": "code",
   "execution_count": 6,
   "id": "81526bee",
   "metadata": {},
   "outputs": [
    {
     "data": {
      "image/png": "[encoded data removed]",
      "text/plain": [
       "<Figure size 1200x600 with 1 Axes>"
      ]
     },
     "metadata": {},
     "output_type": "display_data"
    }
   ],
   "source": [
    "plt.figure(figsize=(12, 6))\n",
    "data_loaded['tsd_diff'].plot(title='First Difference of tsd')\n",
    "plt.show()"
   ]
  },
  {
   "cell_type": "markdown",
   "id": "c1603552",
   "metadata": {},
   "source": [
    "### 3.5 Re-run ADF and KPSS test on tsd_diff"
   ]
  },
  {
   "cell_type": "code",
   "execution_count": 7,
   "id": "4e66882b",
   "metadata": {},
   "outputs": [
    {
     "name": "stdout",
     "output_type": "stream",
     "text": [
      "ADF Statistic (Difference Data): -66.06649322169788\n",
      "p-value: 0.0\n"
     ]
    }
   ],
   "source": [
    "adf_result_diff = adfuller(data_loaded['tsd_diff'].dropna())\n",
    "print('ADF Statistic (Difference Data):', adf_result_diff[0])\n",
    "print('p-value:', adf_result_diff[1])"
   ]
  },
  {
   "cell_type": "code",
   "execution_count": 8,
   "id": "7d357144",
   "metadata": {},
   "outputs": [
    {
     "name": "stdout",
     "output_type": "stream",
     "text": [
      "KPSS Statistic (Difference Data): 0.0007534262677409369\n",
      "p-value: 0.1\n",
      "Critical Values: {'10%': 0.347, '5%': 0.463, '2.5%': 0.574, '1%': 0.739}\n"
     ]
    }
   ],
   "source": [
    "kpss_result_diff = kpss(data_loaded['tsd_diff'].dropna())\n",
    "print('KPSS Statistic (Difference Data):', kpss_result_diff[0])\n",
    "print('p-value:', kpss_result_diff[1])\n",
    "print('Critical Values:', kpss_result_diff[3])"
   ]
  },
  {
   "cell_type": "markdown",
   "id": "68d8de2b",
   "metadata": {},
   "source": [
    "Let's interpret these results:\n",
    "\n",
    "##### ADF Test (on Differenced Data):\n",
    "\n",
    "- **ADF Statistic**: \\(-66.06649322169788\\) is highly negative.\n",
    "- **p-value**: 0.0 is essentially 0.\n",
    "\n",
    "**Interpretation**: The ADF test suggests that the differenced series is stationary, as the p-value is significantly less than the commonly used significance level (0.05).\n",
    "\n",
    "##### KPSS Test (on Differenced Data):\n",
    "\n",
    "- **KPSS Statistic**: \\(0.0007534262677409369\\) is way below the critical values.\n",
    "- **p-value**: 0.1 is above the common significance levels.\n",
    "\n",
    "**Interpretation**: Given the p-value(<0.005) and the KPSS statistic being below the critical values, we fail to reject the null hypothesis. This suggests that the differenced series is stationary around a deterministic trend.\n",
    "\n",
    "In conclusion, both tests agree that after taking the first difference, our time series data is stationary. This is good news for most time series forecasting techniques, as many of them require or at least perform better when the data is stationary.\n",
    "\n",
    "The next step involves choosing and fitting a forecasting model to the differenced (stationary) data, like ARIMA or SARIMA. "
   ]
  },
  {
   "cell_type": "markdown",
   "id": "b413f528",
   "metadata": {},
   "source": [
    "## 4. Selecting a Model"
   ]
  },
  {
   "cell_type": "markdown",
   "id": "848ebcfb",
   "metadata": {},
   "source": [
    "Since our data has both a seasonal component and has been differenced to achieve stationarity, a Seasonal ARIMA (SARIMA) model would be a suitable choice. SARIMA allows for both non-seasonal (p, d, q) and seasonal (P, D, Q, S) components."
   ]
  },
  {
   "cell_type": "markdown",
   "id": "3a8247ee",
   "metadata": {},
   "source": [
    "### 4.1 Model Order Selection\n",
    "To determine the optimal Non-seasonal orders: (p, d, q) and Seasonal orders:(P, D, Q, s) parameters, we can utilize tools like the auto_arima function from the pmdarima library, which conducts a search over possible model orders and chooses the best.\n",
    "\n",
    "**Note**:\n",
    "- Non-seasonal orders                                  \n",
    "     - p:autoregressive order\n",
    "     - d:differencing order\n",
    "     - q:moving averge order\n",
    "     \n",
    "- Seasonal orders                                  \n",
    "     - P:seasonal autoregressive order\n",
    "     - D:seasonal differencind order\n",
    "     - Q:seasonal moving averge order   \n",
    "     - s: number of time steps per cycle"
   ]
  },
  {
   "cell_type": "markdown",
   "id": "0526a6e1",
   "metadata": {},
   "source": [
    "**Note:**\n",
    "\n",
    "We will use the pmdarima: This is a third-party library that provides the auto_arima function, among other utilities. auto_arima helps in determining the best ARIMA/SARIMA parameters (p, d, q, P, D, Q, s) by trying out a range of values and selecting the one with the lowest AIC (or other specified criteria). Essentially, it's a useful tool for hyperparameter tuning for ARIMA/SARIMA models."
   ]
  },
  {
   "cell_type": "markdown",
   "id": "c1ce60be",
   "metadata": {},
   "source": [
    "Given the computational constraints. We will impose limitation of our SARIMA model parameters and instead choose a range of values. See below:\n",
    "\n",
    "The parameters for the ARIMA and SARIMA models are typically chosen based on the data's characteristics and domain knowledge. However, for an exploratory or automated approach like auto_arima, there are commonly-used ranges:\n",
    "\n",
    "- **p, d, q (Non-seasonal parameters)**:\n",
    "\n",
    "    - p (lag order of AR term): This denotes lags of dependent variable. For a time series that shows a slower-moving trend, you might start with a range like start_p=0 and max_p=3.\n",
    "    - d (degree of differencing): We've already differenced the data, so we can set d=0. But generally, d is between 0 and 2.\n",
    "    - q (lag order of MA term): This is about the lags of the forecast errors. A common range might be start_q=0 and max_q=3.\n",
    "    \n",
    "- **P, D, Q, m (Seasonal parameters)**:\n",
    "\n",
    "    - P (seasonal autoregressive order): For daily data with multiple intra-day data points, starting at start_P=0 and max_P=2 is reasonable.\n",
    "    - D (seasonal differencing order): Since we're using daily data and there seems to be a seasonal component, this could be set to 1. But in auto_arima, we can keep it as default and let it decide.\n",
    "    - Q (seasonal moving average order): As with q, a starting point could be start_Q=0 and max_Q=2.\n",
    "    - m (number of periods in season): As we've pointed out, for our half-hourly data, m=48.\n",
    "- **Other parameters**:\n",
    "\n",
    "    - trace=True: To view intermediate results.\n",
    "    - error_action='ignore': Don't want to know if an order does not work.\n",
    "    - suppress_warnings=True: Don't want convergence warnings.\n",
    "    - stepwise=True: To apply the stepwise algorithm to search for the best order."
   ]
  },
  {
   "cell_type": "markdown",
   "id": "9969f244",
   "metadata": {},
   "source": [
    "#### 4.1.1. Split the Dataset in Train and Test test"
   ]
  },
  {
   "cell_type": "code",
   "execution_count": 9,
   "id": "a89bebd7",
   "metadata": {},
   "outputs": [
    {
     "name": "stdout",
     "output_type": "stream",
     "text": [
      "Training set has 205338 data points.\n",
      "Test set has 51335 data points.\n"
     ]
    }
   ],
   "source": [
    "data_series = data_loaded['tsd_diff'].dropna()\n",
    "\n",
    "# Splitting the data at the 80% mark\n",
    "split_point = int(0.8 * len(data_series))\n",
    "train = data_series[:split_point]\n",
    "test = data_series[split_point:]\n",
    "\n",
    "print(f\"Training set has {len(train)} data points.\")\n",
    "print(f\"Test set has {len(test)} data points.\")"
   ]
  },
  {
   "cell_type": "markdown",
   "id": "70ee4c91",
   "metadata": {},
   "source": [
    "#### Computational Constraints\n",
    "\n",
    "Due to computational constraints we will subset the last 10,000, 5,000, 2500, and 1000 data points from the training set."
   ]
  },
  {
   "cell_type": "code",
   "execution_count": null,
   "id": "7d63a285",
   "metadata": {},
   "outputs": [],
   "source": [
    "# Subset the last 10,000 data points from the training set\n",
    "subset_train = train[-10000:].copy()"
   ]
  },
  {
   "cell_type": "code",
   "execution_count": null,
   "id": "27fff82c",
   "metadata": {},
   "outputs": [],
   "source": []
  },
  {
   "cell_type": "code",
   "execution_count": null,
   "id": "d9e378c4",
   "metadata": {},
   "outputs": [],
   "source": []
  },
  {
   "cell_type": "code",
   "execution_count": 10,
   "id": "c6b9984e",
   "metadata": {},
   "outputs": [
    {
     "name": "stdout",
     "output_type": "stream",
     "text": [
      "Performing stepwise search to minimize aic\n",
      " ARIMA(0,0,0)(0,1,0)[48] intercept   : AIC=148743.061, Time=3.82 sec\n"
     ]
    },
    {
     "ename": "KeyboardInterrupt",
     "evalue": "",
     "output_type": "error",
     "traceback": [
      "\u001b[0;31m---------------------------------------------------------------------------\u001b[0m",
      "\u001b[0;31mKeyboardInterrupt\u001b[0m                         Traceback (most recent call last)",
      "Cell \u001b[0;32mIn[10], line 9\u001b[0m\n\u001b[1;32m      5\u001b[0m \u001b[38;5;28;01mfrom\u001b[39;00m \u001b[38;5;21;01mpmdarima\u001b[39;00m \u001b[38;5;28;01mimport\u001b[39;00m auto_arima\n\u001b[1;32m      7\u001b[0m \u001b[38;5;66;03m# Fit auto_arima on the subset of the training set\u001b[39;00m\n\u001b[1;32m      8\u001b[0m \u001b[38;5;66;03m# Set d=0 because data is already differenced\u001b[39;00m\n\u001b[0;32m----> 9\u001b[0m sarima_order \u001b[38;5;241m=\u001b[39m auto_arima(subset_train, seasonal\u001b[38;5;241m=\u001b[39m\u001b[38;5;28;01mTrue\u001b[39;00m, m\u001b[38;5;241m=\u001b[39m\u001b[38;5;241m48\u001b[39m,\n\u001b[1;32m     10\u001b[0m                           start_p\u001b[38;5;241m=\u001b[39m\u001b[38;5;241m0\u001b[39m, start_q\u001b[38;5;241m=\u001b[39m\u001b[38;5;241m0\u001b[39m, max_p\u001b[38;5;241m=\u001b[39m\u001b[38;5;241m3\u001b[39m, max_q\u001b[38;5;241m=\u001b[39m\u001b[38;5;241m3\u001b[39m,\n\u001b[1;32m     11\u001b[0m                           start_P\u001b[38;5;241m=\u001b[39m\u001b[38;5;241m0\u001b[39m, max_P\u001b[38;5;241m=\u001b[39m\u001b[38;5;241m2\u001b[39m, start_Q\u001b[38;5;241m=\u001b[39m\u001b[38;5;241m0\u001b[39m, max_Q\u001b[38;5;241m=\u001b[39m\u001b[38;5;241m2\u001b[39m,\n\u001b[1;32m     12\u001b[0m                           trace\u001b[38;5;241m=\u001b[39m\u001b[38;5;28;01mTrue\u001b[39;00m, error_action\u001b[38;5;241m=\u001b[39m\u001b[38;5;124m'\u001b[39m\u001b[38;5;124mignore\u001b[39m\u001b[38;5;124m'\u001b[39m, suppress_warnings\u001b[38;5;241m=\u001b[39m\u001b[38;5;28;01mTrue\u001b[39;00m,\n\u001b[1;32m     13\u001b[0m                           stepwise\u001b[38;5;241m=\u001b[39m\u001b[38;5;28;01mTrue\u001b[39;00m, d\u001b[38;5;241m=\u001b[39m\u001b[38;5;241m0\u001b[39m, D\u001b[38;5;241m=\u001b[39m\u001b[38;5;241m1\u001b[39m, n_jobs\u001b[38;5;241m=\u001b[39m\u001b[38;5;241m-\u001b[39m\u001b[38;5;241m1\u001b[39m)\n\u001b[1;32m     15\u001b[0m \u001b[38;5;28mprint\u001b[39m(sarima_order\u001b[38;5;241m.\u001b[39msummary())\n",
      "File \u001b[0;32m~/anaconda3/lib/python3.11/site-packages/pmdarima/arima/auto.py:701\u001b[0m, in \u001b[0;36mauto_arima\u001b[0;34m(y, X, start_p, d, start_q, max_p, max_d, max_q, start_P, D, start_Q, max_P, max_D, max_Q, max_order, m, seasonal, stationary, information_criterion, alpha, test, seasonal_test, stepwise, n_jobs, start_params, trend, method, maxiter, offset_test_args, seasonal_test_args, suppress_warnings, error_action, trace, random, random_state, n_fits, return_valid_fits, out_of_sample_size, scoring, scoring_args, with_intercept, sarimax_kwargs, **fit_args)\u001b[0m\n\u001b[1;32m    669\u001b[0m     \u001b[38;5;66;03m# init the stepwise model wrapper\u001b[39;00m\n\u001b[1;32m    670\u001b[0m     search \u001b[38;5;241m=\u001b[39m solvers\u001b[38;5;241m.\u001b[39m_StepwiseFitWrapper(\n\u001b[1;32m    671\u001b[0m         y,\n\u001b[1;32m    672\u001b[0m         X\u001b[38;5;241m=\u001b[39mX,\n\u001b[0;32m   (...)\u001b[0m\n\u001b[1;32m    698\u001b[0m         \u001b[38;5;241m*\u001b[39m\u001b[38;5;241m*\u001b[39msarimax_kwargs,\n\u001b[1;32m    699\u001b[0m     )\n\u001b[0;32m--> 701\u001b[0m sorted_res \u001b[38;5;241m=\u001b[39m search\u001b[38;5;241m.\u001b[39msolve()\n\u001b[1;32m    702\u001b[0m \u001b[38;5;28;01mreturn\u001b[39;00m _return_wrapper(sorted_res, return_valid_fits, start, trace)\n",
      "File \u001b[0;32m~/anaconda3/lib/python3.11/site-packages/pmdarima/arima/_auto_solvers.py:298\u001b[0m, in \u001b[0;36m_StepwiseFitWrapper.solve\u001b[0;34m(self)\u001b[0m\n\u001b[1;32m    296\u001b[0m _p \u001b[38;5;241m=\u001b[39m \u001b[38;5;241m1\u001b[39m \u001b[38;5;28;01mif\u001b[39;00m max_p \u001b[38;5;241m>\u001b[39m \u001b[38;5;241m0\u001b[39m \u001b[38;5;28;01melse\u001b[39;00m \u001b[38;5;241m0\u001b[39m\n\u001b[1;32m    297\u001b[0m _P \u001b[38;5;241m=\u001b[39m \u001b[38;5;241m1\u001b[39m \u001b[38;5;28;01mif\u001b[39;00m (m \u001b[38;5;241m>\u001b[39m \u001b[38;5;241m1\u001b[39m \u001b[38;5;129;01mand\u001b[39;00m max_P \u001b[38;5;241m>\u001b[39m \u001b[38;5;241m0\u001b[39m) \u001b[38;5;28;01melse\u001b[39;00m \u001b[38;5;241m0\u001b[39m\n\u001b[0;32m--> 298\u001b[0m \u001b[38;5;28;01mif\u001b[39;00m \u001b[38;5;28mself\u001b[39m\u001b[38;5;241m.\u001b[39m_do_fit((_p, d, \u001b[38;5;241m0\u001b[39m), (_P, D, \u001b[38;5;241m0\u001b[39m, m)):\n\u001b[1;32m    299\u001b[0m     p \u001b[38;5;241m=\u001b[39m _p\n\u001b[1;32m    300\u001b[0m     P \u001b[38;5;241m=\u001b[39m _P\n",
      "File \u001b[0;32m~/anaconda3/lib/python3.11/site-packages/pmdarima/arima/_auto_solvers.py:235\u001b[0m, in \u001b[0;36m_StepwiseFitWrapper._do_fit\u001b[0;34m(self, order, seasonal_order, constant)\u001b[0m\n\u001b[1;32m    230\u001b[0m \u001b[38;5;28;01mif\u001b[39;00m (order, seasonal_order, constant) \u001b[38;5;129;01mnot\u001b[39;00m \u001b[38;5;129;01min\u001b[39;00m \u001b[38;5;28mself\u001b[39m\u001b[38;5;241m.\u001b[39mresults_dict:\n\u001b[1;32m    231\u001b[0m \n\u001b[1;32m    232\u001b[0m     \u001b[38;5;66;03m# increment the number of fits\u001b[39;00m\n\u001b[1;32m    233\u001b[0m     \u001b[38;5;28mself\u001b[39m\u001b[38;5;241m.\u001b[39mk \u001b[38;5;241m+\u001b[39m\u001b[38;5;241m=\u001b[39m \u001b[38;5;241m1\u001b[39m\n\u001b[0;32m--> 235\u001b[0m     fit, fit_time, new_ic \u001b[38;5;241m=\u001b[39m \u001b[38;5;28mself\u001b[39m\u001b[38;5;241m.\u001b[39m_fit_arima(\n\u001b[1;32m    236\u001b[0m         order\u001b[38;5;241m=\u001b[39morder,\n\u001b[1;32m    237\u001b[0m         seasonal_order\u001b[38;5;241m=\u001b[39mseasonal_order,\n\u001b[1;32m    238\u001b[0m         with_intercept\u001b[38;5;241m=\u001b[39mconstant)\n\u001b[1;32m    240\u001b[0m     \u001b[38;5;66;03m# use the orders as a key to be hashed for\u001b[39;00m\n\u001b[1;32m    241\u001b[0m     \u001b[38;5;66;03m# the dictionary (pointing to fit)\u001b[39;00m\n\u001b[1;32m    242\u001b[0m     \u001b[38;5;28mself\u001b[39m\u001b[38;5;241m.\u001b[39mresults_dict[(order, seasonal_order, constant)] \u001b[38;5;241m=\u001b[39m fit\n",
      "File \u001b[0;32m~/anaconda3/lib/python3.11/site-packages/pmdarima/arima/_auto_solvers.py:508\u001b[0m, in \u001b[0;36m_fit_candidate_model\u001b[0;34m(y, X, order, seasonal_order, start_params, trend, method, maxiter, fit_params, suppress_warnings, trace, error_action, out_of_sample_size, scoring, scoring_args, with_intercept, information_criterion, **kwargs)\u001b[0m\n\u001b[1;32m    500\u001b[0m fit \u001b[38;5;241m=\u001b[39m ARIMA(order\u001b[38;5;241m=\u001b[39morder, seasonal_order\u001b[38;5;241m=\u001b[39mseasonal_order,\n\u001b[1;32m    501\u001b[0m             start_params\u001b[38;5;241m=\u001b[39mstart_params, trend\u001b[38;5;241m=\u001b[39mtrend, method\u001b[38;5;241m=\u001b[39mmethod,\n\u001b[1;32m    502\u001b[0m             maxiter\u001b[38;5;241m=\u001b[39mmaxiter, suppress_warnings\u001b[38;5;241m=\u001b[39msuppress_warnings,\n\u001b[1;32m    503\u001b[0m             out_of_sample_size\u001b[38;5;241m=\u001b[39mout_of_sample_size, scoring\u001b[38;5;241m=\u001b[39mscoring,\n\u001b[1;32m    504\u001b[0m             scoring_args\u001b[38;5;241m=\u001b[39mscoring_args,\n\u001b[1;32m    505\u001b[0m             with_intercept\u001b[38;5;241m=\u001b[39mwith_intercept, \u001b[38;5;241m*\u001b[39m\u001b[38;5;241m*\u001b[39mkwargs)\n\u001b[1;32m    507\u001b[0m \u001b[38;5;28;01mtry\u001b[39;00m:\n\u001b[0;32m--> 508\u001b[0m     fit\u001b[38;5;241m.\u001b[39mfit(y, X\u001b[38;5;241m=\u001b[39mX, \u001b[38;5;241m*\u001b[39m\u001b[38;5;241m*\u001b[39mfit_params)\n\u001b[1;32m    510\u001b[0m \u001b[38;5;66;03m# for non-stationarity errors or singular matrices, return None\u001b[39;00m\n\u001b[1;32m    511\u001b[0m \u001b[38;5;28;01mexcept\u001b[39;00m (LinAlgError, \u001b[38;5;167;01mValueError\u001b[39;00m) \u001b[38;5;28;01mas\u001b[39;00m v:\n",
      "File \u001b[0;32m~/anaconda3/lib/python3.11/site-packages/pmdarima/arima/arima.py:603\u001b[0m, in \u001b[0;36mARIMA.fit\u001b[0;34m(self, y, X, **fit_args)\u001b[0m\n\u001b[1;32m    600\u001b[0m         X \u001b[38;5;241m=\u001b[39m safe_indexing(X, \u001b[38;5;28mslice\u001b[39m(\u001b[38;5;241m0\u001b[39m, n_exog \u001b[38;5;241m-\u001b[39m cv))\n\u001b[1;32m    602\u001b[0m \u001b[38;5;66;03m# Internal call\u001b[39;00m\n\u001b[0;32m--> 603\u001b[0m \u001b[38;5;28mself\u001b[39m\u001b[38;5;241m.\u001b[39m_fit(y, X, \u001b[38;5;241m*\u001b[39m\u001b[38;5;241m*\u001b[39mfit_args)\n\u001b[1;32m    605\u001b[0m \u001b[38;5;66;03m# now make a forecast if we're validating to compute the\u001b[39;00m\n\u001b[1;32m    606\u001b[0m \u001b[38;5;66;03m# out-of-sample score\u001b[39;00m\n\u001b[1;32m    607\u001b[0m \u001b[38;5;28;01mif\u001b[39;00m cv_samples \u001b[38;5;129;01mis\u001b[39;00m \u001b[38;5;129;01mnot\u001b[39;00m \u001b[38;5;28;01mNone\u001b[39;00m:\n\u001b[1;32m    608\u001b[0m     \u001b[38;5;66;03m# get the predictions (use self.predict, which calls forecast\u001b[39;00m\n\u001b[1;32m    609\u001b[0m     \u001b[38;5;66;03m# from statsmodels internally)\u001b[39;00m\n",
      "File \u001b[0;32m~/anaconda3/lib/python3.11/site-packages/pmdarima/arima/arima.py:524\u001b[0m, in \u001b[0;36mARIMA._fit\u001b[0;34m(self, y, X, **fit_args)\u001b[0m\n\u001b[1;32m    522\u001b[0m     \u001b[38;5;28;01mwith\u001b[39;00m warnings\u001b[38;5;241m.\u001b[39mcatch_warnings(record\u001b[38;5;241m=\u001b[39m\u001b[38;5;28;01mFalse\u001b[39;00m):\n\u001b[1;32m    523\u001b[0m         warnings\u001b[38;5;241m.\u001b[39msimplefilter(\u001b[38;5;124m'\u001b[39m\u001b[38;5;124mignore\u001b[39m\u001b[38;5;124m'\u001b[39m)\n\u001b[0;32m--> 524\u001b[0m         fit, \u001b[38;5;28mself\u001b[39m\u001b[38;5;241m.\u001b[39marima_res_ \u001b[38;5;241m=\u001b[39m _fit_wrapper()\n\u001b[1;32m    525\u001b[0m \u001b[38;5;28;01melse\u001b[39;00m:\n\u001b[1;32m    526\u001b[0m     fit, \u001b[38;5;28mself\u001b[39m\u001b[38;5;241m.\u001b[39marima_res_ \u001b[38;5;241m=\u001b[39m _fit_wrapper()\n",
      "File \u001b[0;32m~/anaconda3/lib/python3.11/site-packages/pmdarima/arima/arima.py:510\u001b[0m, in \u001b[0;36mARIMA._fit.<locals>._fit_wrapper\u001b[0;34m()\u001b[0m\n\u001b[1;32m    507\u001b[0m _maxiter \u001b[38;5;241m=\u001b[39m fit_args\u001b[38;5;241m.\u001b[39mpop(\u001b[38;5;124m\"\u001b[39m\u001b[38;5;124mmaxiter\u001b[39m\u001b[38;5;124m\"\u001b[39m, _maxiter)\n\u001b[1;32m    509\u001b[0m disp \u001b[38;5;241m=\u001b[39m fit_args\u001b[38;5;241m.\u001b[39mpop(\u001b[38;5;124m\"\u001b[39m\u001b[38;5;124mdisp\u001b[39m\u001b[38;5;124m\"\u001b[39m, \u001b[38;5;241m0\u001b[39m)\n\u001b[0;32m--> 510\u001b[0m fitted \u001b[38;5;241m=\u001b[39m arima\u001b[38;5;241m.\u001b[39mfit(\n\u001b[1;32m    511\u001b[0m     start_params\u001b[38;5;241m=\u001b[39mstart_params,\n\u001b[1;32m    512\u001b[0m     method\u001b[38;5;241m=\u001b[39mmethod,\n\u001b[1;32m    513\u001b[0m     maxiter\u001b[38;5;241m=\u001b[39m_maxiter,\n\u001b[1;32m    514\u001b[0m     disp\u001b[38;5;241m=\u001b[39mdisp,\n\u001b[1;32m    515\u001b[0m     \u001b[38;5;241m*\u001b[39m\u001b[38;5;241m*\u001b[39mfit_args,\n\u001b[1;32m    516\u001b[0m )\n\u001b[1;32m    518\u001b[0m \u001b[38;5;28;01mreturn\u001b[39;00m arima, fitted\n",
      "File \u001b[0;32m~/anaconda3/lib/python3.11/site-packages/statsmodels/tsa/statespace/mlemodel.py:728\u001b[0m, in \u001b[0;36mMLEModel.fit\u001b[0;34m(self, start_params, transformed, includes_fixed, cov_type, cov_kwds, method, maxiter, full_output, disp, callback, return_params, optim_score, optim_complex_step, optim_hessian, flags, low_memory, **kwargs)\u001b[0m\n\u001b[1;32m    726\u001b[0m \u001b[38;5;28;01melse\u001b[39;00m:\n\u001b[1;32m    727\u001b[0m     func \u001b[38;5;241m=\u001b[39m \u001b[38;5;28mself\u001b[39m\u001b[38;5;241m.\u001b[39msmooth\n\u001b[0;32m--> 728\u001b[0m res \u001b[38;5;241m=\u001b[39m func(mlefit\u001b[38;5;241m.\u001b[39mparams, transformed\u001b[38;5;241m=\u001b[39m\u001b[38;5;28;01mFalse\u001b[39;00m, includes_fixed\u001b[38;5;241m=\u001b[39m\u001b[38;5;28;01mFalse\u001b[39;00m,\n\u001b[1;32m    729\u001b[0m            cov_type\u001b[38;5;241m=\u001b[39mcov_type, cov_kwds\u001b[38;5;241m=\u001b[39mcov_kwds)\n\u001b[1;32m    731\u001b[0m res\u001b[38;5;241m.\u001b[39mmlefit \u001b[38;5;241m=\u001b[39m mlefit\n\u001b[1;32m    732\u001b[0m res\u001b[38;5;241m.\u001b[39mmle_retvals \u001b[38;5;241m=\u001b[39m mlefit\u001b[38;5;241m.\u001b[39mmle_retvals\n",
      "File \u001b[0;32m~/anaconda3/lib/python3.11/site-packages/statsmodels/tsa/statespace/mlemodel.py:889\u001b[0m, in \u001b[0;36mMLEModel.smooth\u001b[0;34m(self, params, transformed, includes_fixed, complex_step, cov_type, cov_kwds, return_ssm, results_class, results_wrapper_class, **kwargs)\u001b[0m\n\u001b[1;32m    886\u001b[0m result \u001b[38;5;241m=\u001b[39m \u001b[38;5;28mself\u001b[39m\u001b[38;5;241m.\u001b[39mssm\u001b[38;5;241m.\u001b[39msmooth(complex_step\u001b[38;5;241m=\u001b[39mcomplex_step, \u001b[38;5;241m*\u001b[39m\u001b[38;5;241m*\u001b[39mkwargs)\n\u001b[1;32m    888\u001b[0m \u001b[38;5;66;03m# Wrap in a results object\u001b[39;00m\n\u001b[0;32m--> 889\u001b[0m \u001b[38;5;28;01mreturn\u001b[39;00m \u001b[38;5;28mself\u001b[39m\u001b[38;5;241m.\u001b[39m_wrap_results(params, result, return_ssm, cov_type,\n\u001b[1;32m    890\u001b[0m                           cov_kwds, results_class,\n\u001b[1;32m    891\u001b[0m                           results_wrapper_class)\n",
      "File \u001b[0;32m~/anaconda3/lib/python3.11/site-packages/statsmodels/tsa/statespace/mlemodel.py:788\u001b[0m, in \u001b[0;36mMLEModel._wrap_results\u001b[0;34m(self, params, result, return_raw, cov_type, cov_kwds, results_class, wrapper_class)\u001b[0m\n\u001b[1;32m    785\u001b[0m     \u001b[38;5;28;01mif\u001b[39;00m wrapper_class \u001b[38;5;129;01mis\u001b[39;00m \u001b[38;5;28;01mNone\u001b[39;00m:\n\u001b[1;32m    786\u001b[0m         wrapper_class \u001b[38;5;241m=\u001b[39m \u001b[38;5;28mself\u001b[39m\u001b[38;5;241m.\u001b[39m_res_classes[\u001b[38;5;124m'\u001b[39m\u001b[38;5;124mfit\u001b[39m\u001b[38;5;124m'\u001b[39m][\u001b[38;5;241m1\u001b[39m]\n\u001b[0;32m--> 788\u001b[0m     res \u001b[38;5;241m=\u001b[39m results_class(\u001b[38;5;28mself\u001b[39m, params, result, \u001b[38;5;241m*\u001b[39m\u001b[38;5;241m*\u001b[39mresult_kwargs)\n\u001b[1;32m    789\u001b[0m     result \u001b[38;5;241m=\u001b[39m wrapper_class(res)\n\u001b[1;32m    790\u001b[0m \u001b[38;5;28;01mreturn\u001b[39;00m result\n",
      "File \u001b[0;32m~/anaconda3/lib/python3.11/site-packages/statsmodels/tsa/statespace/sarimax.py:1806\u001b[0m, in \u001b[0;36mSARIMAXResults.__init__\u001b[0;34m(self, model, params, filter_results, cov_type, **kwargs)\u001b[0m\n\u001b[1;32m   1804\u001b[0m \u001b[38;5;28;01mdef\u001b[39;00m \u001b[38;5;21m__init__\u001b[39m(\u001b[38;5;28mself\u001b[39m, model, params, filter_results, cov_type\u001b[38;5;241m=\u001b[39m\u001b[38;5;28;01mNone\u001b[39;00m,\n\u001b[1;32m   1805\u001b[0m              \u001b[38;5;241m*\u001b[39m\u001b[38;5;241m*\u001b[39mkwargs):\n\u001b[0;32m-> 1806\u001b[0m     \u001b[38;5;28msuper\u001b[39m(SARIMAXResults, \u001b[38;5;28mself\u001b[39m)\u001b[38;5;241m.\u001b[39m\u001b[38;5;21m__init__\u001b[39m(model, params, filter_results,\n\u001b[1;32m   1807\u001b[0m                                          cov_type, \u001b[38;5;241m*\u001b[39m\u001b[38;5;241m*\u001b[39mkwargs)\n\u001b[1;32m   1809\u001b[0m     \u001b[38;5;28mself\u001b[39m\u001b[38;5;241m.\u001b[39mdf_resid \u001b[38;5;241m=\u001b[39m np\u001b[38;5;241m.\u001b[39minf  \u001b[38;5;66;03m# attribute required for wald tests\u001b[39;00m\n\u001b[1;32m   1811\u001b[0m     \u001b[38;5;66;03m# Save _init_kwds\u001b[39;00m\n",
      "File \u001b[0;32m~/anaconda3/lib/python3.11/site-packages/statsmodels/tsa/statespace/mlemodel.py:2373\u001b[0m, in \u001b[0;36mMLEResults.__init__\u001b[0;34m(self, model, params, results, cov_type, cov_kwds, **kwargs)\u001b[0m\n\u001b[1;32m   2371\u001b[0m \u001b[38;5;28;01mtry\u001b[39;00m:\n\u001b[1;32m   2372\u001b[0m     \u001b[38;5;28mself\u001b[39m\u001b[38;5;241m.\u001b[39m_rank \u001b[38;5;241m=\u001b[39m \u001b[38;5;28;01mNone\u001b[39;00m\n\u001b[0;32m-> 2373\u001b[0m     \u001b[38;5;28mself\u001b[39m\u001b[38;5;241m.\u001b[39m_get_robustcov_results(cov_type\u001b[38;5;241m=\u001b[39mcov_type, use_self\u001b[38;5;241m=\u001b[39m\u001b[38;5;28;01mTrue\u001b[39;00m,\n\u001b[1;32m   2374\u001b[0m                                 \u001b[38;5;241m*\u001b[39m\u001b[38;5;241m*\u001b[39mcov_kwds)\n\u001b[1;32m   2375\u001b[0m \u001b[38;5;28;01mexcept\u001b[39;00m np\u001b[38;5;241m.\u001b[39mlinalg\u001b[38;5;241m.\u001b[39mLinAlgError:\n\u001b[1;32m   2376\u001b[0m     \u001b[38;5;28mself\u001b[39m\u001b[38;5;241m.\u001b[39m_rank \u001b[38;5;241m=\u001b[39m \u001b[38;5;241m0\u001b[39m\n",
      "File \u001b[0;32m~/anaconda3/lib/python3.11/site-packages/statsmodels/tsa/statespace/mlemodel.py:2603\u001b[0m, in \u001b[0;36mMLEResults._get_robustcov_results\u001b[0;34m(self, cov_type, **kwargs)\u001b[0m\n\u001b[1;32m   2600\u001b[0m     res\u001b[38;5;241m.\u001b[39mcov_kwds[\u001b[38;5;124m'\u001b[39m\u001b[38;5;124mdescription\u001b[39m\u001b[38;5;124m'\u001b[39m] \u001b[38;5;241m=\u001b[39m descriptions[\u001b[38;5;124m'\u001b[39m\u001b[38;5;124mOIM\u001b[39m\u001b[38;5;124m'\u001b[39m]\u001b[38;5;241m.\u001b[39mformat(\n\u001b[1;32m   2601\u001b[0m                                         approx_type\u001b[38;5;241m=\u001b[39mapprox_type_str)\n\u001b[1;32m   2602\u001b[0m \u001b[38;5;28;01melif\u001b[39;00m \u001b[38;5;28mself\u001b[39m\u001b[38;5;241m.\u001b[39mcov_type \u001b[38;5;241m==\u001b[39m \u001b[38;5;124m'\u001b[39m\u001b[38;5;124mopg\u001b[39m\u001b[38;5;124m'\u001b[39m:\n\u001b[0;32m-> 2603\u001b[0m     res\u001b[38;5;241m.\u001b[39mcov_params_default \u001b[38;5;241m=\u001b[39m res\u001b[38;5;241m.\u001b[39mcov_params_opg\n\u001b[1;32m   2604\u001b[0m     res\u001b[38;5;241m.\u001b[39mcov_kwds[\u001b[38;5;124m'\u001b[39m\u001b[38;5;124mdescription\u001b[39m\u001b[38;5;124m'\u001b[39m] \u001b[38;5;241m=\u001b[39m descriptions[\u001b[38;5;124m'\u001b[39m\u001b[38;5;124mOPG\u001b[39m\u001b[38;5;124m'\u001b[39m]\u001b[38;5;241m.\u001b[39mformat(\n\u001b[1;32m   2605\u001b[0m                                         approx_type\u001b[38;5;241m=\u001b[39mapprox_type_str)\n\u001b[1;32m   2606\u001b[0m \u001b[38;5;28;01melif\u001b[39;00m \u001b[38;5;28mself\u001b[39m\u001b[38;5;241m.\u001b[39mcov_type \u001b[38;5;241m==\u001b[39m \u001b[38;5;124m'\u001b[39m\u001b[38;5;124mrobust\u001b[39m\u001b[38;5;124m'\u001b[39m \u001b[38;5;129;01mor\u001b[39;00m \u001b[38;5;28mself\u001b[39m\u001b[38;5;241m.\u001b[39mcov_type \u001b[38;5;241m==\u001b[39m \u001b[38;5;124m'\u001b[39m\u001b[38;5;124mrobust_oim\u001b[39m\u001b[38;5;124m'\u001b[39m:\n",
      "File \u001b[0;32m~/anaconda3/lib/python3.11/site-packages/pandas/_libs/properties.pyx:36\u001b[0m, in \u001b[0;36mpandas._libs.properties.CachedProperty.__get__\u001b[0;34m()\u001b[0m\n",
      "File \u001b[0;32m~/anaconda3/lib/python3.11/site-packages/statsmodels/tsa/statespace/mlemodel.py:2733\u001b[0m, in \u001b[0;36mMLEResults.cov_params_opg\u001b[0;34m(self)\u001b[0m\n\u001b[1;32m   2727\u001b[0m \u001b[38;5;129m@cache_readonly\u001b[39m\n\u001b[1;32m   2728\u001b[0m \u001b[38;5;28;01mdef\u001b[39;00m \u001b[38;5;21mcov_params_opg\u001b[39m(\u001b[38;5;28mself\u001b[39m):\n\u001b[1;32m   2729\u001b[0m \u001b[38;5;250m    \u001b[39m\u001b[38;5;124;03m\"\"\"\u001b[39;00m\n\u001b[1;32m   2730\u001b[0m \u001b[38;5;124;03m    (array) The variance / covariance matrix. Computed using the outer\u001b[39;00m\n\u001b[1;32m   2731\u001b[0m \u001b[38;5;124;03m    product of gradients method.\u001b[39;00m\n\u001b[1;32m   2732\u001b[0m \u001b[38;5;124;03m    \"\"\"\u001b[39;00m\n\u001b[0;32m-> 2733\u001b[0m     \u001b[38;5;28;01mreturn\u001b[39;00m \u001b[38;5;28mself\u001b[39m\u001b[38;5;241m.\u001b[39m_cov_params_opg(\u001b[38;5;28mself\u001b[39m\u001b[38;5;241m.\u001b[39m_cov_approx_complex_step,\n\u001b[1;32m   2734\u001b[0m                                 \u001b[38;5;28mself\u001b[39m\u001b[38;5;241m.\u001b[39m_cov_approx_centered)\n",
      "File \u001b[0;32m~/anaconda3/lib/python3.11/site-packages/statsmodels/tsa/statespace/mlemodel.py:2700\u001b[0m, in \u001b[0;36mMLEResults._cov_params_opg\u001b[0;34m(self, approx_complex_step, approx_centered)\u001b[0m\n\u001b[1;32m   2699\u001b[0m \u001b[38;5;28;01mdef\u001b[39;00m \u001b[38;5;21m_cov_params_opg\u001b[39m(\u001b[38;5;28mself\u001b[39m, approx_complex_step\u001b[38;5;241m=\u001b[39m\u001b[38;5;28;01mTrue\u001b[39;00m, approx_centered\u001b[38;5;241m=\u001b[39m\u001b[38;5;28;01mFalse\u001b[39;00m):\n\u001b[0;32m-> 2700\u001b[0m     evaluated_hessian \u001b[38;5;241m=\u001b[39m \u001b[38;5;28mself\u001b[39m\u001b[38;5;241m.\u001b[39mnobs_effective \u001b[38;5;241m*\u001b[39m \u001b[38;5;28mself\u001b[39m\u001b[38;5;241m.\u001b[39mmodel\u001b[38;5;241m.\u001b[39m_hessian_opg(\n\u001b[1;32m   2701\u001b[0m         \u001b[38;5;28mself\u001b[39m\u001b[38;5;241m.\u001b[39mparams, transformed\u001b[38;5;241m=\u001b[39m\u001b[38;5;28;01mTrue\u001b[39;00m, includes_fixed\u001b[38;5;241m=\u001b[39m\u001b[38;5;28;01mTrue\u001b[39;00m,\n\u001b[1;32m   2702\u001b[0m         approx_complex_step\u001b[38;5;241m=\u001b[39mapprox_complex_step,\n\u001b[1;32m   2703\u001b[0m         approx_centered\u001b[38;5;241m=\u001b[39mapprox_centered)\n\u001b[1;32m   2705\u001b[0m     no_free_params \u001b[38;5;241m=\u001b[39m (\u001b[38;5;28mself\u001b[39m\u001b[38;5;241m.\u001b[39m_free_params_index \u001b[38;5;129;01mis\u001b[39;00m \u001b[38;5;129;01mnot\u001b[39;00m \u001b[38;5;28;01mNone\u001b[39;00m \u001b[38;5;129;01mand\u001b[39;00m\n\u001b[1;32m   2706\u001b[0m                       \u001b[38;5;28mlen\u001b[39m(\u001b[38;5;28mself\u001b[39m\u001b[38;5;241m.\u001b[39m_free_params_index) \u001b[38;5;241m==\u001b[39m \u001b[38;5;241m0\u001b[39m)\n\u001b[1;32m   2708\u001b[0m     \u001b[38;5;28;01mif\u001b[39;00m no_free_params:\n",
      "File \u001b[0;32m~/anaconda3/lib/python3.11/site-packages/statsmodels/tsa/statespace/mlemodel.py:1542\u001b[0m, in \u001b[0;36mMLEModel._hessian_opg\u001b[0;34m(self, params, **kwargs)\u001b[0m\n\u001b[1;32m   1537\u001b[0m \u001b[38;5;28;01mdef\u001b[39;00m \u001b[38;5;21m_hessian_opg\u001b[39m(\u001b[38;5;28mself\u001b[39m, params, \u001b[38;5;241m*\u001b[39m\u001b[38;5;241m*\u001b[39mkwargs):\n\u001b[1;32m   1538\u001b[0m \u001b[38;5;250m    \u001b[39m\u001b[38;5;124;03m\"\"\"\u001b[39;00m\n\u001b[1;32m   1539\u001b[0m \u001b[38;5;124;03m    Hessian matrix computed using the outer product of gradients\u001b[39;00m\n\u001b[1;32m   1540\u001b[0m \u001b[38;5;124;03m    information matrix\u001b[39;00m\n\u001b[1;32m   1541\u001b[0m \u001b[38;5;124;03m    \"\"\"\u001b[39;00m\n\u001b[0;32m-> 1542\u001b[0m     \u001b[38;5;28;01mreturn\u001b[39;00m \u001b[38;5;241m-\u001b[39m\u001b[38;5;28mself\u001b[39m\u001b[38;5;241m.\u001b[39mopg_information_matrix(params, \u001b[38;5;241m*\u001b[39m\u001b[38;5;241m*\u001b[39mkwargs)\n",
      "File \u001b[0;32m~/anaconda3/lib/python3.11/site-packages/statsmodels/tsa/statespace/mlemodel.py:1229\u001b[0m, in \u001b[0;36mMLEModel.opg_information_matrix\u001b[0;34m(self, params, transformed, includes_fixed, approx_complex_step, **kwargs)\u001b[0m\n\u001b[1;32m   1224\u001b[0m \u001b[38;5;28;01mif\u001b[39;00m \u001b[38;5;129;01mnot\u001b[39;00m transformed \u001b[38;5;129;01mand\u001b[39;00m approx_complex_step:\n\u001b[1;32m   1225\u001b[0m     \u001b[38;5;28;01mraise\u001b[39;00m \u001b[38;5;167;01mValueError\u001b[39;00m(\u001b[38;5;124m\"\u001b[39m\u001b[38;5;124mCannot use complex-step approximations to\u001b[39m\u001b[38;5;124m\"\u001b[39m\n\u001b[1;32m   1226\u001b[0m                      \u001b[38;5;124m\"\u001b[39m\u001b[38;5;124m calculate the observed_information_matrix\u001b[39m\u001b[38;5;124m\"\u001b[39m\n\u001b[1;32m   1227\u001b[0m                      \u001b[38;5;124m\"\u001b[39m\u001b[38;5;124m with untransformed parameters.\u001b[39m\u001b[38;5;124m\"\u001b[39m)\n\u001b[0;32m-> 1229\u001b[0m score_obs \u001b[38;5;241m=\u001b[39m \u001b[38;5;28mself\u001b[39m\u001b[38;5;241m.\u001b[39mscore_obs(params, transformed\u001b[38;5;241m=\u001b[39mtransformed,\n\u001b[1;32m   1230\u001b[0m                            includes_fixed\u001b[38;5;241m=\u001b[39mincludes_fixed,\n\u001b[1;32m   1231\u001b[0m                            approx_complex_step\u001b[38;5;241m=\u001b[39mapprox_complex_step,\n\u001b[1;32m   1232\u001b[0m                            \u001b[38;5;241m*\u001b[39m\u001b[38;5;241m*\u001b[39mkwargs)\u001b[38;5;241m.\u001b[39mtranspose()\n\u001b[1;32m   1233\u001b[0m \u001b[38;5;28;01mreturn\u001b[39;00m (\n\u001b[1;32m   1234\u001b[0m     np\u001b[38;5;241m.\u001b[39minner(score_obs, score_obs) \u001b[38;5;241m/\u001b[39m\n\u001b[1;32m   1235\u001b[0m     (\u001b[38;5;28mself\u001b[39m\u001b[38;5;241m.\u001b[39mnobs \u001b[38;5;241m-\u001b[39m \u001b[38;5;28mself\u001b[39m\u001b[38;5;241m.\u001b[39mssm\u001b[38;5;241m.\u001b[39mloglikelihood_burn)\n\u001b[1;32m   1236\u001b[0m )\n",
      "File \u001b[0;32m~/anaconda3/lib/python3.11/site-packages/statsmodels/tsa/statespace/mlemodel.py:1448\u001b[0m, in \u001b[0;36mMLEModel.score_obs\u001b[0;34m(self, params, method, transformed, includes_fixed, approx_complex_step, approx_centered, **kwargs)\u001b[0m\n\u001b[1;32m   1446\u001b[0m     epsilon \u001b[38;5;241m=\u001b[39m _get_epsilon(params, \u001b[38;5;241m2.\u001b[39m, \u001b[38;5;28;01mNone\u001b[39;00m, \u001b[38;5;28mlen\u001b[39m(params))\n\u001b[1;32m   1447\u001b[0m     kwargs[\u001b[38;5;124m'\u001b[39m\u001b[38;5;124mcomplex_step\u001b[39m\u001b[38;5;124m'\u001b[39m] \u001b[38;5;241m=\u001b[39m \u001b[38;5;28;01mTrue\u001b[39;00m\n\u001b[0;32m-> 1448\u001b[0m     score \u001b[38;5;241m=\u001b[39m approx_fprime_cs(params, \u001b[38;5;28mself\u001b[39m\u001b[38;5;241m.\u001b[39mloglikeobs, epsilon\u001b[38;5;241m=\u001b[39mepsilon,\n\u001b[1;32m   1449\u001b[0m                              kwargs\u001b[38;5;241m=\u001b[39mkwargs)\n\u001b[1;32m   1450\u001b[0m \u001b[38;5;28;01melif\u001b[39;00m method \u001b[38;5;241m==\u001b[39m \u001b[38;5;124m'\u001b[39m\u001b[38;5;124mapprox\u001b[39m\u001b[38;5;124m'\u001b[39m:\n\u001b[1;32m   1451\u001b[0m     score \u001b[38;5;241m=\u001b[39m approx_fprime(params, \u001b[38;5;28mself\u001b[39m\u001b[38;5;241m.\u001b[39mloglikeobs, kwargs\u001b[38;5;241m=\u001b[39mkwargs,\n\u001b[1;32m   1452\u001b[0m                           centered\u001b[38;5;241m=\u001b[39mapprox_centered)\n",
      "File \u001b[0;32m~/anaconda3/lib/python3.11/site-packages/statsmodels/tools/numdiff.py:251\u001b[0m, in \u001b[0;36mapprox_fprime_cs\u001b[0;34m(x, f, epsilon, args, kwargs)\u001b[0m\n\u001b[1;32m    249\u001b[0m increments \u001b[38;5;241m=\u001b[39m np\u001b[38;5;241m.\u001b[39midentity(n) \u001b[38;5;241m*\u001b[39m \u001b[38;5;241m1\u001b[39mj \u001b[38;5;241m*\u001b[39m epsilon\n\u001b[1;32m    250\u001b[0m \u001b[38;5;66;03m# TODO: see if this can be vectorized, but usually dim is small\u001b[39;00m\n\u001b[0;32m--> 251\u001b[0m partials \u001b[38;5;241m=\u001b[39m [f(x\u001b[38;5;241m+\u001b[39mih, \u001b[38;5;241m*\u001b[39margs, \u001b[38;5;241m*\u001b[39m\u001b[38;5;241m*\u001b[39mkwargs)\u001b[38;5;241m.\u001b[39mimag \u001b[38;5;241m/\u001b[39m epsilon[i]\n\u001b[1;32m    252\u001b[0m             \u001b[38;5;28;01mfor\u001b[39;00m i, ih \u001b[38;5;129;01min\u001b[39;00m \u001b[38;5;28menumerate\u001b[39m(increments)]\n\u001b[1;32m    254\u001b[0m \u001b[38;5;28;01mreturn\u001b[39;00m np\u001b[38;5;241m.\u001b[39marray(partials)\u001b[38;5;241m.\u001b[39mT\n",
      "File \u001b[0;32m~/anaconda3/lib/python3.11/site-packages/statsmodels/tools/numdiff.py:251\u001b[0m, in \u001b[0;36m<listcomp>\u001b[0;34m(.0)\u001b[0m\n\u001b[1;32m    249\u001b[0m increments \u001b[38;5;241m=\u001b[39m np\u001b[38;5;241m.\u001b[39midentity(n) \u001b[38;5;241m*\u001b[39m \u001b[38;5;241m1\u001b[39mj \u001b[38;5;241m*\u001b[39m epsilon\n\u001b[1;32m    250\u001b[0m \u001b[38;5;66;03m# TODO: see if this can be vectorized, but usually dim is small\u001b[39;00m\n\u001b[0;32m--> 251\u001b[0m partials \u001b[38;5;241m=\u001b[39m [f(x\u001b[38;5;241m+\u001b[39mih, \u001b[38;5;241m*\u001b[39margs, \u001b[38;5;241m*\u001b[39m\u001b[38;5;241m*\u001b[39mkwargs)\u001b[38;5;241m.\u001b[39mimag \u001b[38;5;241m/\u001b[39m epsilon[i]\n\u001b[1;32m    252\u001b[0m             \u001b[38;5;28;01mfor\u001b[39;00m i, ih \u001b[38;5;129;01min\u001b[39;00m \u001b[38;5;28menumerate\u001b[39m(increments)]\n\u001b[1;32m    254\u001b[0m \u001b[38;5;28;01mreturn\u001b[39;00m np\u001b[38;5;241m.\u001b[39marray(partials)\u001b[38;5;241m.\u001b[39mT\n",
      "File \u001b[0;32m~/anaconda3/lib/python3.11/site-packages/statsmodels/tsa/statespace/mlemodel.py:988\u001b[0m, in \u001b[0;36mMLEModel.loglikeobs\u001b[0;34m(self, params, transformed, includes_fixed, complex_step, **kwargs)\u001b[0m\n\u001b[1;32m    983\u001b[0m     kwargs[\u001b[38;5;124m'\u001b[39m\u001b[38;5;124minversion_method\u001b[39m\u001b[38;5;124m'\u001b[39m] \u001b[38;5;241m=\u001b[39m INVERT_UNIVARIATE \u001b[38;5;241m|\u001b[39m SOLVE_LU\n\u001b[1;32m    985\u001b[0m \u001b[38;5;28mself\u001b[39m\u001b[38;5;241m.\u001b[39mupdate(params, transformed\u001b[38;5;241m=\u001b[39m\u001b[38;5;28;01mTrue\u001b[39;00m, includes_fixed\u001b[38;5;241m=\u001b[39m\u001b[38;5;28;01mTrue\u001b[39;00m,\n\u001b[1;32m    986\u001b[0m             complex_step\u001b[38;5;241m=\u001b[39mcomplex_step)\n\u001b[0;32m--> 988\u001b[0m \u001b[38;5;28;01mreturn\u001b[39;00m \u001b[38;5;28mself\u001b[39m\u001b[38;5;241m.\u001b[39mssm\u001b[38;5;241m.\u001b[39mloglikeobs(complex_step\u001b[38;5;241m=\u001b[39mcomplex_step, \u001b[38;5;241m*\u001b[39m\u001b[38;5;241m*\u001b[39mkwargs)\n",
      "File \u001b[0;32m~/anaconda3/lib/python3.11/site-packages/statsmodels/tsa/statespace/kalman_filter.py:1068\u001b[0m, in \u001b[0;36mKalmanFilter.loglikeobs\u001b[0;34m(self, **kwargs)\u001b[0m\n\u001b[1;32m   1064\u001b[0m \u001b[38;5;28;01melse\u001b[39;00m:\n\u001b[1;32m   1065\u001b[0m     kwargs\u001b[38;5;241m.\u001b[39msetdefault(\n\u001b[1;32m   1066\u001b[0m         \u001b[38;5;124m'\u001b[39m\u001b[38;5;124mconserve_memory\u001b[39m\u001b[38;5;124m'\u001b[39m,\n\u001b[1;32m   1067\u001b[0m         MEMORY_CONSERVE \u001b[38;5;241m^\u001b[39m (MEMORY_NO_FORECAST \u001b[38;5;241m|\u001b[39m MEMORY_NO_LIKELIHOOD))\n\u001b[0;32m-> 1068\u001b[0m kfilter \u001b[38;5;241m=\u001b[39m \u001b[38;5;28mself\u001b[39m\u001b[38;5;241m.\u001b[39m_filter(\u001b[38;5;241m*\u001b[39m\u001b[38;5;241m*\u001b[39mkwargs)\n\u001b[1;32m   1069\u001b[0m llf_obs \u001b[38;5;241m=\u001b[39m np\u001b[38;5;241m.\u001b[39marray(kfilter\u001b[38;5;241m.\u001b[39mloglikelihood, copy\u001b[38;5;241m=\u001b[39m\u001b[38;5;28;01mTrue\u001b[39;00m)\n\u001b[1;32m   1070\u001b[0m loglikelihood_burn \u001b[38;5;241m=\u001b[39m kwargs\u001b[38;5;241m.\u001b[39mget(\u001b[38;5;124m'\u001b[39m\u001b[38;5;124mloglikelihood_burn\u001b[39m\u001b[38;5;124m'\u001b[39m,\n\u001b[1;32m   1071\u001b[0m                                 \u001b[38;5;28mself\u001b[39m\u001b[38;5;241m.\u001b[39mloglikelihood_burn)\n",
      "File \u001b[0;32m~/anaconda3/lib/python3.11/site-packages/statsmodels/tsa/statespace/kalman_filter.py:924\u001b[0m, in \u001b[0;36mKalmanFilter._filter\u001b[0;34m(self, filter_method, inversion_method, stability_method, conserve_memory, filter_timing, tolerance, loglikelihood_burn, complex_step)\u001b[0m\n\u001b[1;32m    921\u001b[0m \u001b[38;5;28mself\u001b[39m\u001b[38;5;241m.\u001b[39m_initialize_state(prefix\u001b[38;5;241m=\u001b[39mprefix, complex_step\u001b[38;5;241m=\u001b[39mcomplex_step)\n\u001b[1;32m    923\u001b[0m \u001b[38;5;66;03m# Run the filter\u001b[39;00m\n\u001b[0;32m--> 924\u001b[0m kfilter()\n\u001b[1;32m    926\u001b[0m \u001b[38;5;28;01mreturn\u001b[39;00m kfilter\n",
      "\u001b[0;31mKeyboardInterrupt\u001b[0m: "
     ]
    }
   ],
   "source": [
    "# Proceed with the auto_arima function on this subset\n",
    "from pmdarima import auto_arima\n",
    "\n",
    "# Fit auto_arima on the subset of the training set\n",
    "# Set d=0 because data is already differenced\n",
    "sarima_order = auto_arima(subset_train, seasonal=True, m=48,\n",
    "                          start_p=0, start_q=0, max_p=3, max_q=3,\n",
    "                          start_P=0, max_P=2, start_Q=0, max_Q=2,\n",
    "                          trace=True, error_action='ignore', suppress_warnings=True,\n",
    "                          stepwise=True, d=0, D=1, n_jobs=-1)\n",
    "\n",
    "print(sarima_order.summary())\n"
   ]
  },
  {
   "cell_type": "markdown",
   "id": "803b5294",
   "metadata": {},
   "source": [
    "#### Computational Constraints\n",
    "\n",
    "Due to computational constraints after running the auto_arima() function on the whole dataset followed by running the function on last year's dataset, the kernel died on both occassions. Therefore, we decided to subset the data again to try using 3 months data from last year to determine the best parameters we can use for our SARIMA Model. The results were that the kernel also died. \n",
    "\n",
    "Therefore, we will pick the best parameters based off the results we received from running the auto_arima() function on the:\n",
    "    - whole dataset\n",
    "    - Last year's data\n",
    "    - 3 months data from last year\n",
    "    \n",
    "Below are the results:"
   ]
  },
  {
   "cell_type": "markdown",
   "id": "7e5ec838",
   "metadata": {},
   "source": [
    "#### 5.1.1. Results from whole dataset"
   ]
  },
  {
   "cell_type": "code",
   "execution_count": 9,
   "id": "b55634f8",
   "metadata": {},
   "outputs": [],
   "source": [
    "# Here is my code for running the auto_arima() on the whole data set.\n",
    "\n",
    "#from pmdarima import auto_arima\n",
    "\n",
    "# Determine the SARIMA order for the differenced data\n",
    "# sarima_order = auto_arima(data_loaded['tsd_diff'].dropna(), seasonal=True, m=48,\n",
    "#                           start_p=0, start_q=0, max_p=3, max_q=3,\n",
    "#                           start_P=0, max_P=2, start_Q=0, max_Q=2,\n",
    "#                           trace=True, error_action='ignore', suppress_warnings=True,\n",
    "#                           stepwise=True, d=0, D=1, n_jobs=-1)  # Set d=0 because data is already differenced\n",
    "\n",
    "# print(sarima_order.summary())"
   ]
  },
  {
   "cell_type": "markdown",
   "id": "658caea9",
   "metadata": {},
   "source": [
    "**Output**:\n",
    "\n",
    "- ARIMA(2,0,2)(1,0,1)[48] intercept   : AIC=inf, Time=5681.80 sec\n",
    "- ARIMA(0,0,0)(0,0,0)[48] intercept   : AIC=4283614.927, Time=3.17 sec"
   ]
  },
  {
   "cell_type": "markdown",
   "id": "0bf9bdee",
   "metadata": {},
   "source": [
    "#### 5.1.2. Results from Last Year's dataset"
   ]
  },
  {
   "cell_type": "code",
   "execution_count": 10,
   "id": "e201cd90",
   "metadata": {},
   "outputs": [],
   "source": [
    "# Subset the data using slicing to get the last year's data\n",
    "# Slicing format is [start:end]\n",
    "# `Start` is the beginning of the index and `end` is the end of the index\n",
    "# (48*365) alculates the 30 minutes readings for a year\n",
    "# the -ve sign indicates counting from the end of the DataFrame\n",
    "\n",
    "# subset_data = data_loaded[-(48*365):]  # 48 entries per day for 365 days\n",
    "\n",
    "# # Use this subsetted data for the auto_arima function\n",
    "# sarima_order = auto_arima(subset_data['tsd_diff'].dropna(), seasonal=True, m=48,\n",
    "#                           start_p=0, start_q=0, max_p=3, max_q=3,\n",
    "#                           start_P=0, max_P=2, start_Q=0, max_Q=2,\n",
    "#                           trace=True, error_action='ignore', suppress_warnings=True,\n",
    "#                           stepwise=True, d=0, D=1, n_jobs=-1)  # Set d=0 because data is already differenced\n",
    "\n",
    "# print(sarima_order.summary())"
   ]
  },
  {
   "cell_type": "markdown",
   "id": "a9806142",
   "metadata": {},
   "source": [
    "**Output**:\n",
    "\n",
    "Performing stepwise search to minimize aic\n",
    "\n",
    " - ARIMA(0,0,0)(0,1,0)[48] intercept   : AIC=268400.302, Time=7.36 sec\n",
    " - ARIMA(1,0,0)(1,1,0)[48] intercept   : AIC=262694.061, Time=596.58 sec\n",
    " - ARIMA(0,0,1)(0,1,1)[48] intercept   : AIC=inf, Time=309.18 sec\n",
    " - ARIMA(0,0,0)(0,1,0)[48]             : AIC=268398.369, Time=5.89 sec\n",
    " - ARIMA(1,0,0)(0,1,0)[48] intercept   : AIC=266339.550, Time=64.61 sec"
   ]
  },
  {
   "cell_type": "markdown",
   "id": "1baf3395",
   "metadata": {},
   "source": [
    "#### 5.1.3. Results from 6 months' entries (8736 rows, 20 columns)"
   ]
  },
  {
   "cell_type": "code",
   "execution_count": 11,
   "id": "f6511e5d",
   "metadata": {},
   "outputs": [],
   "source": [
    "# Subsetting the differenced data to get the last 6 months' entries\n",
    "# Slicing format is [start:end]\n",
    "# `Start` is the beginning of the index and `end` is the end of the index\n",
    "# (48*182) alculates the 30 minutes readings for the last 6 months\n",
    "# the -ve sign indicates counting from the end of the DataFrame\n",
    "# subset_data_6_months = data_loaded[-(48*182):]  # 48 half-hour entries * 182 days"
   ]
  },
  {
   "cell_type": "code",
   "execution_count": 12,
   "id": "0ec0ac75",
   "metadata": {},
   "outputs": [],
   "source": [
    "# from pmdarima import auto_arima\n",
    "\n",
    "# # Determine the SARIMA order for the subsetted, differenced data\n",
    "# sarima_order = auto_arima(subset_data_6_months['tsd_diff'].dropna(), \n",
    "#                           seasonal=True, m=48,\n",
    "#                           start_p=0, start_q=0, max_p=3, max_q=3,\n",
    "#                           start_P=0, max_P=2, start_Q=0, max_Q=2,\n",
    "#                           trace=True, error_action='ignore', suppress_warnings=True,\n",
    "#                           stepwise=True, d=0, D=1, n_jobs=-1)  # Set d=0 because data is already differenced\n",
    "\n",
    "# print(sarima_order.summary())"
   ]
  },
  {
   "cell_type": "markdown",
   "id": "aa28ec49",
   "metadata": {},
   "source": [
    "**Output**:\n",
    "\n",
    "Performing stepwise search to minimize aic\n",
    "\n",
    " - ARIMA(0,0,0)(0,1,0)[48] intercept   : AIC=131282.439, Time=3.33 sec\n",
    " - ARIMA(1,0,0)(1,1,0)[48] intercept   : AIC=127919.448, Time=272.84 sec\n",
    " - ARIMA(0,0,1)(0,1,1)[48] intercept   : AIC=inf, Time=143.16 sec\n",
    " - ARIMA(0,0,0)(0,1,0)[48]             : AIC=131280.445, Time=5.08 sec\n",
    " - ARIMA(1,0,0)(0,1,0)[48] intercept   : AIC=129852.620, Time=31.64 sec\n",
    " - ARIMA(1,0,0)(2,1,0)[48] intercept   : AIC=127155.172, Time=835.89 sec\n",
    " - ARIMA(1,0,0)(2,1,1)[48] intercept   : AIC=inf, Time=869.01 sec\n",
    " - ARIMA(1,0,0)(1,1,1)[48] intercept   : AIC=inf, Time=304.70 sec\n",
    " - ARIMA(0,0,0)(2,1,0)[48] intercept   : AIC=129057.688, Time=316.14 sec"
   ]
  },
  {
   "cell_type": "markdown",
   "id": "ccf2c016",
   "metadata": {},
   "source": [
    "#### 5.1.4. Results from last 3 moths' entries (4320 rows, 20 columns)"
   ]
  },
  {
   "cell_type": "markdown",
   "id": "13b9f085",
   "metadata": {},
   "source": [
    "**Note**:\n",
    "Given that there are 48 entries per day, for 90 days (approximately 3 months), we will have \n",
    "48×90=4320 entries."
   ]
  },
  {
   "cell_type": "code",
   "execution_count": 13,
   "id": "5fca829e",
   "metadata": {},
   "outputs": [],
   "source": [
    "# subset_data_3months = data_loaded[-4320:]\n",
    "\n",
    "# from pmdarima import auto_arima\n",
    "\n",
    "# # Using the differenced data for the last 3 months\n",
    "# sarima_order_3months = auto_arima(subset_data_3months['tsd_diff'].dropna(), seasonal=True, m=48,\n",
    "#                                   start_p=0, start_q=0, max_p=3, max_q=3,\n",
    "#                                   start_P=0, max_P=2, start_Q=0, max_Q=2,\n",
    "#                                   trace=True, error_action='ignore', suppress_warnings=True,\n",
    "#                                   stepwise=True, d=0, D=1, n_jobs=-1)  # Set d=0 because data is already differenced\n",
    "\n",
    "# print(sarima_order_3months.summary())"
   ]
  },
  {
   "cell_type": "markdown",
   "id": "034c540e",
   "metadata": {},
   "source": [
    "**Output**:\n",
    "\n",
    "Performing stepwise search to minimize aic\n",
    "\n",
    " - ARIMA(0,0,0)(0,1,0)[48] intercept   : AIC=64313.459, Time=1.67 sec\n",
    " - ARIMA(1,0,0)(1,1,0)[48] intercept   : AIC=62889.814, Time=117.87 sec\n",
    " - ARIMA(0,0,1)(0,1,1)[48] intercept   : AIC=inf, Time=111.27 sec\n",
    " - ARIMA(0,0,0)(0,1,0)[48]             : AIC=64311.460, Time=2.70 sec\n",
    " - ARIMA(1,0,0)(0,1,0)[48] intercept   : AIC=63851.987, Time=9.51 sec\n",
    " - ARIMA(1,0,0)(2,1,0)[48] intercept   : AIC=62507.169, Time=359.14 sec\n",
    " - ARIMA(1,0,0)(2,1,1)[48] intercept   : AIC=inf, Time=288.02 sec\n",
    " - ARIMA(1,0,0)(1,1,1)[48] intercept   : AIC=inf, Time=89.80 sec\n",
    " - ARIMA(0,0,0)(2,1,0)[48] intercept   : AIC=63134.601, Time=197.53 sec\n",
    " - ARIMA(2,0,0)(2,1,0)[48] intercept   : AIC=62483.763, Time=233.94 sec\n",
    " - ARIMA(2,0,0)(1,1,0)[48] intercept   : AIC=62867.995, Time=94.43 sec\n",
    " - ARIMA(2,0,0)(2,1,1)[48] intercept   : AIC=inf, Time=338.58 sec\n",
    " - ARIMA(2,0,0)(1,1,1)[48] intercept   : AIC=inf, Time=114.16 sec"
   ]
  },
  {
   "cell_type": "markdown",
   "id": "420c7b62",
   "metadata": {},
   "source": [
    "**Note**: \n",
    "\n",
    "- **n_jobs=-1**: means all CPUs are used\n",
    "- **d=0**:- We've already differenced the series once manually, which is why we set d=0 in the auto_arima function, indicating that no further non-seasonal differencing is required.\n",
    "- **D=1**: This accounts for daily seasonality in our data by differencing the series with a lag of 48 observations (i.e., one day). This is assuming there's a daily seasonality in the data that we need to account for.\n",
    "    - To put it simply, d deals with the overall trend in the series, whereas D deals with the repeating patterns arising at fixed intervals (seasonality).\n",
    "\n",
    "\n",
    "Once you've run the above code, the summary will provide the order (p, d, q) and seasonal order (P, D, Q, S) that were found to be the best for your dataset."
   ]
  },
  {
   "cell_type": "markdown",
   "id": "72806655",
   "metadata": {},
   "source": [
    "#### Results Interpretation:\n",
    "\n",
    "- From the results, the model with the lowest AIC value (which generally indicates a better model fit given the trade-off between goodness of fit and model complexity) is the ARIMA(2,0,0)(2,1,0)[48] with an AIC of 62483.763. This suggests that this model would be the most suitable for our time series data among the models that were tried.\n",
    "\n",
    "We will then fit a SARIMA model with the parameters:\n",
    "- Non-seasonal orders:\n",
    "    - p=2, d=0, q=0, \n",
    "    \n",
    "- Seasonal orders:\n",
    "    - P=2, D=1, Q=0\n",
    "- Other parameters:\n",
    "    - m = 48 - seasonal period"
   ]
  },
  {
   "cell_type": "markdown",
   "id": "56a195f2",
   "metadata": {},
   "source": [
    "### 5.2 Fit SARIMA Model"
   ]
  },
  {
   "cell_type": "markdown",
   "id": "ca6cde6e",
   "metadata": {},
   "source": [
    "**Note**:\n",
    "\n",
    "Given that your data is collected every 30 minutes and there are 48 entries per day, the order will be: `seasonal_order=(2, 1, 0, 48)`. The seasonal period of 48 will correctly capture the daily seasonality in your data.\n",
    "\n",
    "We'll use the `SARIMAX` to model a time series with a daily seasonality pattern for data collected every 30 minutes."
   ]
  },
  {
   "cell_type": "code",
   "execution_count": 14,
   "id": "e4b6b04b",
   "metadata": {},
   "outputs": [],
   "source": [
    "# from statsmodels.tsa.statespace.sarimax import SARIMAX\n",
    "\n",
    "# model = SARIMAX(data_loaded['tsd_diff'].dropna(), \n",
    "#                 order=(2, 0, 0), \n",
    "#                 seasonal_order=(2, 1, 0, 48),\n",
    "#                 enforce_stationarity=False,\n",
    "#                 enforce_invertibility=False)\n",
    "\n",
    "# results = model.fit()\n",
    "\n",
    "# print(results.summary())"
   ]
  },
  {
   "cell_type": "markdown",
   "id": "98b6fe24",
   "metadata": {},
   "source": [
    "**Output**:\n",
    "\n",
    "This problem is unconstrained.\n",
    "\n",
    "RUNNING THE L-BFGS-B CODE\n",
    "\n",
    "           * * *\n",
    "\n",
    "Machine precision = 2.220D-16\n",
    " N =            5     M =           10\n",
    "\n",
    "At X0         0 variables are exactly at the bounds\n",
    "\n",
    "At iterate    0    f=  7.34783D+00    |proj g|=  1.26498D-01\n",
    "\n",
    "At iterate    5    f=  7.33797D+00    |proj g|=  4.55226D-04\n",
    "\n",
    "At iterate   10    f=  7.33796D+00    |proj g|=  2.49522D-03\n",
    "\n",
    "At iterate   15    f=  7.33643D+00    |proj g|=  3.07097D-02\n",
    "\n",
    "At iterate   20    f=  7.32814D+00    |proj g|=  1.70926D-02"
   ]
  },
  {
   "cell_type": "markdown",
   "id": "58946e38",
   "metadata": {},
   "source": [
    "Due to computional constraints which caused the kernel to crash, we are going to change the code to limit the number of iterations to 15.\n",
    "\n",
    "By setting the maxiter parameter to 15 in the fit() method, the optimization process will not run for more than 15 iterations.\n",
    "\n",
    "We are also going to subset the data. Since our data is ordered by time (i.e., the rows are sequential time entries), we can easily take a subset of the data by slicing the dataframe. We will work with the most recent 1000 data points.\n"
   ]
  },
  {
   "cell_type": "code",
   "execution_count": 15,
   "id": "74f1b9e3",
   "metadata": {},
   "outputs": [
    {
     "data": {
      "text/html": [
       "<div>\n",
       "<style scoped>\n",
       "    .dataframe tbody tr th:only-of-type {\n",
       "        vertical-align: middle;\n",
       "    }\n",
       "\n",
       "    .dataframe tbody tr th {\n",
       "        vertical-align: top;\n",
       "    }\n",
       "\n",
       "    .dataframe thead th {\n",
       "        text-align: right;\n",
       "    }\n",
       "</style>\n",
       "<table border=\"1\" class=\"dataframe\">\n",
       "  <thead>\n",
       "    <tr style=\"text-align: right;\">\n",
       "      <th></th>\n",
       "      <th>settlement_date</th>\n",
       "      <th>settlement_period</th>\n",
       "      <th>period_hour</th>\n",
       "      <th>nd</th>\n",
       "      <th>tsd</th>\n",
       "      <th>england_wales_demand</th>\n",
       "      <th>embedded_wind_generation</th>\n",
       "      <th>embedded_wind_capacity</th>\n",
       "      <th>embedded_solar_generation</th>\n",
       "      <th>embedded_solar_capacity</th>\n",
       "      <th>non_bm_stor</th>\n",
       "      <th>pump_storage_pumping</th>\n",
       "      <th>ifa_flow</th>\n",
       "      <th>ifa2_flow</th>\n",
       "      <th>britned_flow</th>\n",
       "      <th>moyle_flow</th>\n",
       "      <th>east_west_flow</th>\n",
       "      <th>nemo_flow</th>\n",
       "      <th>is_holiday</th>\n",
       "      <th>tsd_diff</th>\n",
       "    </tr>\n",
       "  </thead>\n",
       "  <tbody>\n",
       "    <tr>\n",
       "      <th>255674</th>\n",
       "      <td>2023-08-18 04:00:00</td>\n",
       "      <td>9</td>\n",
       "      <td>4:00:00</td>\n",
       "      <td>17509</td>\n",
       "      <td>20639</td>\n",
       "      <td>16325</td>\n",
       "      <td>1988</td>\n",
       "      <td>6538</td>\n",
       "      <td>0</td>\n",
       "      <td>14285</td>\n",
       "      <td>0</td>\n",
       "      <td>121</td>\n",
       "      <td>-209</td>\n",
       "      <td>-300</td>\n",
       "      <td>-821</td>\n",
       "      <td>326</td>\n",
       "      <td>0</td>\n",
       "      <td>-1021</td>\n",
       "      <td>0</td>\n",
       "      <td>291.0</td>\n",
       "    </tr>\n",
       "    <tr>\n",
       "      <th>255675</th>\n",
       "      <td>2023-08-18 04:30:00</td>\n",
       "      <td>10</td>\n",
       "      <td>4:30:00</td>\n",
       "      <td>17559</td>\n",
       "      <td>20722</td>\n",
       "      <td>16365</td>\n",
       "      <td>2029</td>\n",
       "      <td>6538</td>\n",
       "      <td>0</td>\n",
       "      <td>14285</td>\n",
       "      <td>0</td>\n",
       "      <td>120</td>\n",
       "      <td>-224</td>\n",
       "      <td>-301</td>\n",
       "      <td>-821</td>\n",
       "      <td>237</td>\n",
       "      <td>0</td>\n",
       "      <td>-1021</td>\n",
       "      <td>0</td>\n",
       "      <td>83.0</td>\n",
       "    </tr>\n",
       "    <tr>\n",
       "      <th>255676</th>\n",
       "      <td>2023-08-18 05:00:00</td>\n",
       "      <td>11</td>\n",
       "      <td>5:00:00</td>\n",
       "      <td>18096</td>\n",
       "      <td>21827</td>\n",
       "      <td>16832</td>\n",
       "      <td>2056</td>\n",
       "      <td>6538</td>\n",
       "      <td>0</td>\n",
       "      <td>14285</td>\n",
       "      <td>0</td>\n",
       "      <td>120</td>\n",
       "      <td>-341</td>\n",
       "      <td>-319</td>\n",
       "      <td>-821</td>\n",
       "      <td>323</td>\n",
       "      <td>0</td>\n",
       "      <td>-1021</td>\n",
       "      <td>0</td>\n",
       "      <td>1105.0</td>\n",
       "    </tr>\n",
       "    <tr>\n",
       "      <th>255677</th>\n",
       "      <td>2023-08-18 05:30:00</td>\n",
       "      <td>12</td>\n",
       "      <td>5:30:00</td>\n",
       "      <td>18492</td>\n",
       "      <td>22150</td>\n",
       "      <td>17178</td>\n",
       "      <td>2083</td>\n",
       "      <td>6538</td>\n",
       "      <td>0</td>\n",
       "      <td>14285</td>\n",
       "      <td>0</td>\n",
       "      <td>14</td>\n",
       "      <td>-352</td>\n",
       "      <td>-317</td>\n",
       "      <td>-821</td>\n",
       "      <td>335</td>\n",
       "      <td>0</td>\n",
       "      <td>-1021</td>\n",
       "      <td>0</td>\n",
       "      <td>323.0</td>\n",
       "    </tr>\n",
       "    <tr>\n",
       "      <th>255678</th>\n",
       "      <td>2023-08-18 06:00:00</td>\n",
       "      <td>13</td>\n",
       "      <td>6:00:00</td>\n",
       "      <td>20003</td>\n",
       "      <td>23526</td>\n",
       "      <td>18567</td>\n",
       "      <td>2131</td>\n",
       "      <td>6538</td>\n",
       "      <td>11</td>\n",
       "      <td>14285</td>\n",
       "      <td>0</td>\n",
       "      <td>3</td>\n",
       "      <td>-431</td>\n",
       "      <td>-193</td>\n",
       "      <td>-821</td>\n",
       "      <td>251</td>\n",
       "      <td>5</td>\n",
       "      <td>-1021</td>\n",
       "      <td>0</td>\n",
       "      <td>1376.0</td>\n",
       "    </tr>\n",
       "  </tbody>\n",
       "</table>\n",
       "</div>"
      ],
      "text/plain": [
       "           settlement_date  settlement_period period_hour     nd    tsd  \\\n",
       "255674 2023-08-18 04:00:00                  9     4:00:00  17509  20639   \n",
       "255675 2023-08-18 04:30:00                 10     4:30:00  17559  20722   \n",
       "255676 2023-08-18 05:00:00                 11     5:00:00  18096  21827   \n",
       "255677 2023-08-18 05:30:00                 12     5:30:00  18492  22150   \n",
       "255678 2023-08-18 06:00:00                 13     6:00:00  20003  23526   \n",
       "\n",
       "        england_wales_demand  embedded_wind_generation  \\\n",
       "255674                 16325                      1988   \n",
       "255675                 16365                      2029   \n",
       "255676                 16832                      2056   \n",
       "255677                 17178                      2083   \n",
       "255678                 18567                      2131   \n",
       "\n",
       "        embedded_wind_capacity  embedded_solar_generation  \\\n",
       "255674                    6538                          0   \n",
       "255675                    6538                          0   \n",
       "255676                    6538                          0   \n",
       "255677                    6538                          0   \n",
       "255678                    6538                         11   \n",
       "\n",
       "        embedded_solar_capacity  non_bm_stor  pump_storage_pumping  ifa_flow  \\\n",
       "255674                    14285            0                   121      -209   \n",
       "255675                    14285            0                   120      -224   \n",
       "255676                    14285            0                   120      -341   \n",
       "255677                    14285            0                    14      -352   \n",
       "255678                    14285            0                     3      -431   \n",
       "\n",
       "        ifa2_flow  britned_flow  moyle_flow  east_west_flow  nemo_flow  \\\n",
       "255674       -300          -821         326               0      -1021   \n",
       "255675       -301          -821         237               0      -1021   \n",
       "255676       -319          -821         323               0      -1021   \n",
       "255677       -317          -821         335               0      -1021   \n",
       "255678       -193          -821         251               5      -1021   \n",
       "\n",
       "        is_holiday  tsd_diff  \n",
       "255674           0     291.0  \n",
       "255675           0      83.0  \n",
       "255676           0    1105.0  \n",
       "255677           0     323.0  \n",
       "255678           0    1376.0  "
      ]
     },
     "execution_count": 15,
     "metadata": {},
     "output_type": "execute_result"
    }
   ],
   "source": [
    "# Subsetting the data for the most recent 1000 points\n",
    "subset_data = data_loaded.iloc[-1000:].copy()\n",
    "subset_data.head()"
   ]
  },
  {
   "cell_type": "code",
   "execution_count": 16,
   "id": "a340fd24",
   "metadata": {},
   "outputs": [
    {
     "data": {
      "text/plain": [
       "(1000, 20)"
      ]
     },
     "execution_count": 16,
     "metadata": {},
     "output_type": "execute_result"
    }
   ],
   "source": [
    "subset_data.shape"
   ]
  },
  {
   "cell_type": "code",
   "execution_count": 17,
   "id": "bb9cb62d",
   "metadata": {},
   "outputs": [
    {
     "name": "stderr",
     "output_type": "stream",
     "text": [
      " This problem is unconstrained.\n"
     ]
    },
    {
     "name": "stdout",
     "output_type": "stream",
     "text": [
      "RUNNING THE L-BFGS-B CODE\n",
      "\n",
      "           * * *\n",
      "\n",
      "Machine precision = 2.220D-16\n",
      " N =            5     M =           10\n",
      "\n",
      "At X0         0 variables are exactly at the bounds\n",
      "\n",
      "At iterate    0    f=  6.26264D+00    |proj g|=  3.41284D-02\n",
      "\n",
      "At iterate    5    f=  6.26076D+00    |proj g|=  5.77153D-04\n",
      "\n",
      "At iterate   10    f=  6.26069D+00    |proj g|=  8.96837D-03\n",
      "\n",
      "At iterate   15    f=  6.25369D+00    |proj g|=  8.58734D-02\n",
      "\n",
      "           * * *\n",
      "\n",
      "Tit   = total number of iterations\n",
      "Tnf   = total number of function evaluations\n",
      "Tnint = total number of segments explored during Cauchy searches\n",
      "Skip  = number of BFGS updates skipped\n",
      "Nact  = number of active bounds at final generalized Cauchy point\n",
      "Projg = norm of the final projected gradient\n",
      "F     = final function value\n",
      "\n",
      "           * * *\n",
      "\n",
      "   N    Tit     Tnf  Tnint  Skip  Nact     Projg        F\n",
      "    5     15     17      1     0     0   8.587D-02   6.254D+00\n",
      "  F =   6.2536906076822305     \n",
      "\n",
      "STOP: TOTAL NO. of ITERATIONS REACHED LIMIT                 \n",
      "                                     SARIMAX Results                                      \n",
      "==========================================================================================\n",
      "Dep. Variable:                           tsd_diff   No. Observations:                 1000\n",
      "Model:             SARIMAX(2, 0, 0)x(2, 1, 0, 48)   Log Likelihood               -6253.691\n",
      "Date:                            Thu, 05 Oct 2023   AIC                          12517.381\n",
      "Time:                                    19:10:31   BIC                          12541.131\n",
      "Sample:                                         0   HQIC                         12526.477\n",
      "                                           - 1000                                         \n",
      "Covariance Type:                              opg                                         \n",
      "==============================================================================\n",
      "                 coef    std err          z      P>|z|      [0.025      0.975]\n",
      "------------------------------------------------------------------------------\n",
      "ar.L1          0.2702      0.044      6.203      0.000       0.185       0.356\n",
      "ar.L2          0.0936      0.032      2.900      0.004       0.030       0.157\n",
      "ar.S.L48      -0.5865      0.033    -18.001      0.000      -0.650      -0.523\n",
      "ar.S.L96      -0.1751      0.029     -6.127      0.000      -0.231      -0.119\n",
      "sigma2      1.617e+05   6392.176     25.301      0.000    1.49e+05    1.74e+05\n",
      "===================================================================================\n",
      "Ljung-Box (L1) (Q):                   3.32   Jarque-Bera (JB):               299.62\n",
      "Prob(Q):                              0.07   Prob(JB):                         0.00\n",
      "Heteroskedasticity (H):               0.67   Skew:                             0.13\n",
      "Prob(H) (two-sided):                  0.00   Kurtosis:                         5.89\n",
      "===================================================================================\n",
      "\n",
      "Warnings:\n",
      "[1] Covariance matrix calculated using the outer product of gradients (complex-step).\n"
     ]
    }
   ],
   "source": [
    "from statsmodels.tsa.statespace.sarimax import SARIMAX\n",
    "\n",
    "model = SARIMAX(subset_data['tsd_diff'].dropna(), \n",
    "                order=(2, 0, 0), \n",
    "                seasonal_order=(2, 1, 0, 48),\n",
    "                enforce_stationarity=False,\n",
    "                enforce_invertibility=False)\n",
    "\n",
    "# Limiting the optimization to, say, 15 iterations.\n",
    "results = model.fit(maxiter=15)\n",
    "\n",
    "print(results.summary())"
   ]
  },
  {
   "cell_type": "markdown",
   "id": "bd824948",
   "metadata": {},
   "source": [
    "### SARIMAX Results Interpretation"
   ]
  },
  {
   "cell_type": "markdown",
   "id": "0461dc88",
   "metadata": {},
   "source": [
    "Dep. Variable: This is the dependent variable, tsd_diff.\n",
    "No. Observations: The number of observations (data points) used in the model, which is 1000.\n",
    "Model: The SARIMA model configuration.\n",
    "Log Likelihood, AIC, BIC, HQIC: Model fit statistics.\n",
    "AIC (Akaike Information Criterion) and BIC (Bayesian Information Criterion): Measures of the goodness of fit of the model, where smaller values are preferred.\n",
    "Log Likelihood: The log of the likelihood function, indicating the probability of the observed data given the parameters.\n",
    "Covariance Type: The type of covariance matrix used, \"opg\" stands for outer product of the gradient.\n",
    "Parameter Estimates: The coef column provides the estimated values of the SARIMA model parameters.\n",
    "Ljung-Box Test: A test for autocorrelations in the residuals. The p-value (Prob(Q)) is above 0.05, which is a good sign as it suggests no significant autocorrelations in the residuals.\n",
    "Jarque-Bera Test: A test for normality of the residuals. The Prob(JB) is very small, indicating that the residuals might not be normally distributed.\n",
    "Heteroskedasticity Test: This tests if the variance of the residuals is constant across time. A Prob(H) value less than 0.05 suggests that the residuals might exhibit heteroskedasticity.\n",
    "Skew & Kurtosis: Indicators of the shape of the distribution of residuals. Skew indicates the degree of asymmetry, and kurtosis measures the \"tailedness\" of the distribution.\n",
    "Overall Analysis:\n",
    "\n",
    "The parameters of the model (AR terms and seasonal AR terms) are statistically significant, as indicated by the p-values (P>|z|) being less than 0.05.\n",
    "The model has captured some patterns in the data, as suggested by the significant AR and seasonal AR terms.\n",
    "While the Ljung-Box test suggests no significant autocorrelation in the residuals, the Jarque-Bera test indicates potential non-normality, and the heteroskedasticity test indicates potential non-constant variance in the residuals. These aspects might warrant further investigation.\n",
    "Next Steps:\n",
    "\n",
    "Residual Analysis: Plot the residuals to visually inspect them. Look for any patterns, seasonality, or trends that might not have been captured.\n",
    "Model Validation: If you have held out some data, use the model to make predictions and compare these with the actual values.\n",
    "Refinement: Based on the residuals and validation results, you might need to refine the model by changing its parameters, using different transformations, or even trying different model types.\n",
    "Remember, while the AIC, BIC, and other metrics provide a quantitative evaluation, the best way to evaluate your model's performance is by testing its predictions against actual unseen data."
   ]
  },
  {
   "cell_type": "code",
   "execution_count": null,
   "id": "1ee2b7ea",
   "metadata": {},
   "outputs": [],
   "source": []
  }
 ],
 "metadata": {
  "kernelspec": {
   "display_name": "Python 3 (ipykernel)",
   "language": "python",
   "name": "python3"
  },
  "language_info": {
   "codemirror_mode": {
    "name": "ipython",
    "version": 3
   },
   "file_extension": ".py",
   "mimetype": "text/x-python",
   "name": "python",
   "nbconvert_exporter": "python",
   "pygments_lexer": "ipython3",
   "version": "3.11.5"
  }
 },
 "nbformat": 4,
 "nbformat_minor": 5
}
